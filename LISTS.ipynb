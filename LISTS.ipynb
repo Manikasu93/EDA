{
 "cells": [
  {
   "cell_type": "code",
   "execution_count": null,
   "id": "70c19f50",
   "metadata": {},
   "outputs": [],
   "source": [
    "- HOW TO READ \n",
    "- HOW MANY WAYS WE CAN REPRESENT \n",
    "- TYPE\n",
    "- LEN\n",
    "- MAX\n",
    "- MIN\n",
    "- SORTED\n",
    "- REVERSED\n",
    "- CONCATINATION\n",
    "- IN\n",
    "- INDEX\n",
    "- FOR LOOP ITERATION \n",
    "- MUTABLE-IMMUTABLE\n",
    "- SLICEING\n",
    "- METHODS"
   ]
  },
  {
   "cell_type": "code",
   "execution_count": null,
   "id": "73950d14",
   "metadata": {},
   "outputs": [],
   "source": [
    "strings represents quotes\n",
    "str=''"
   ]
  },
  {
   "cell_type": "code",
   "execution_count": 3,
   "id": "84c40549",
   "metadata": {},
   "outputs": [
    {
     "data": {
      "text/plain": [
       "[1, 2, 3]"
      ]
     },
     "execution_count": 3,
     "metadata": {},
     "output_type": "execute_result"
    }
   ],
   "source": [
    "l1=[1,2,3]\n",
    "l1"
   ]
  },
  {
   "cell_type": "code",
   "execution_count": 4,
   "id": "3f8e48ab",
   "metadata": {},
   "outputs": [
    {
     "data": {
      "text/plain": [
       "list"
      ]
     },
     "execution_count": 4,
     "metadata": {},
     "output_type": "execute_result"
    }
   ],
   "source": [
    "type(l1)"
   ]
  },
  {
   "cell_type": "code",
   "execution_count": 5,
   "id": "d96d3a19",
   "metadata": {},
   "outputs": [
    {
     "data": {
      "text/plain": [
       "['apple', 'banana', 'cherry']"
      ]
     },
     "execution_count": 5,
     "metadata": {},
     "output_type": "execute_result"
    }
   ],
   "source": [
    "l2=['apple','banana','cherry']\n",
    "l2"
   ]
  },
  {
   "cell_type": "code",
   "execution_count": 6,
   "id": "601d9a0a",
   "metadata": {},
   "outputs": [
    {
     "data": {
      "text/plain": [
       "[1, 2, 3, 'a', 'b']"
      ]
     },
     "execution_count": 6,
     "metadata": {},
     "output_type": "execute_result"
    }
   ],
   "source": [
    "l3=[1,2,3,'a','b']\n",
    "l3"
   ]
  },
  {
   "cell_type": "code",
   "execution_count": 8,
   "id": "53969688",
   "metadata": {},
   "outputs": [
    {
     "data": {
      "text/plain": [
       "[1, 2, 3, 'a', 'b', 'c', 'true', 10.9, (20+30j)]"
      ]
     },
     "execution_count": 8,
     "metadata": {},
     "output_type": "execute_result"
    }
   ],
   "source": [
    "l4=[1,2,3,'a','b','c','true',10.9,20+30j]\n",
    "l4"
   ]
  },
  {
   "cell_type": "code",
   "execution_count": 10,
   "id": "7daf67ff",
   "metadata": {},
   "outputs": [
    {
     "data": {
      "text/plain": [
       "[100, 100, 100]"
      ]
     },
     "execution_count": 10,
     "metadata": {},
     "output_type": "execute_result"
    }
   ],
   "source": [
    "l5=[100,100,100]\n",
    "l5"
   ]
  },
  {
   "cell_type": "code",
   "execution_count": 26,
   "id": "3bee54d7",
   "metadata": {},
   "outputs": [
    {
     "data": {
      "text/plain": [
       "[1, 2, 3, ['a', 'b']]"
      ]
     },
     "execution_count": 26,
     "metadata": {},
     "output_type": "execute_result"
    }
   ],
   "source": [
    "l6=[1,2,3,['a','b']]\n",
    "l6"
   ]
  },
  {
   "cell_type": "code",
   "execution_count": 16,
   "id": "ee2d52c1",
   "metadata": {},
   "outputs": [
    {
     "data": {
      "text/plain": [
       "[[[[[1, 2, 3, ['a', 'b']]]]]]"
      ]
     },
     "execution_count": 16,
     "metadata": {},
     "output_type": "execute_result"
    }
   ],
   "source": [
    "l7=[_]\n",
    "l7   # it will comes in list in lists when it is "
   ]
  },
  {
   "cell_type": "markdown",
   "id": "b42e387a",
   "metadata": {},
   "source": [
    "- list in notting but array of elements\n",
    "- that elements can be amy data type\n",
    "- hetrogeneous\n",
    "- list can extend with any values\n",
    "- list in list possible\n",
    "- list of underscore ,is notting but list in list"
   ]
  },
  {
   "cell_type": "code",
   "execution_count": 20,
   "id": "3ae463d0",
   "metadata": {},
   "outputs": [
    {
     "name": "stdout",
     "output_type": "stream",
     "text": [
      "[1, 2, 3]\n",
      "3\n",
      "1\n",
      "3\n",
      "6\n"
     ]
    }
   ],
   "source": [
    "print(l1)\n",
    "print(len(l1))\n",
    "print(min(l1))\n",
    "print(max(l1))\n",
    "print(sum(l1))"
   ]
  },
  {
   "cell_type": "code",
   "execution_count": 21,
   "id": "7c26d1c4",
   "metadata": {},
   "outputs": [
    {
     "name": "stdout",
     "output_type": "stream",
     "text": [
      "['apple', 'banana', 'cherry']\n",
      "3\n",
      "apple\n",
      "cherry\n"
     ]
    },
    {
     "ename": "TypeError",
     "evalue": "unsupported operand type(s) for +: 'int' and 'str'",
     "output_type": "error",
     "traceback": [
      "\u001b[1;31m---------------------------------------------------------------------------\u001b[0m",
      "\u001b[1;31mTypeError\u001b[0m                                 Traceback (most recent call last)",
      "Cell \u001b[1;32mIn[21], line 5\u001b[0m\n\u001b[0;32m      3\u001b[0m \u001b[38;5;28mprint\u001b[39m(\u001b[38;5;28mmin\u001b[39m(l2))\n\u001b[0;32m      4\u001b[0m \u001b[38;5;28mprint\u001b[39m(\u001b[38;5;28mmax\u001b[39m(l2))\n\u001b[1;32m----> 5\u001b[0m \u001b[38;5;28mprint\u001b[39m(\u001b[38;5;28msum\u001b[39m(l2))\n",
      "\u001b[1;31mTypeError\u001b[0m: unsupported operand type(s) for +: 'int' and 'str'"
     ]
    }
   ],
   "source": [
    "print(l2)\n",
    "print(len(l2))  \n",
    "print(min(l2))\n",
    "print(max(l2))\n",
    "print(sum(l2))    "
   ]
  },
  {
   "cell_type": "code",
   "execution_count": 22,
   "id": "9ca36b97",
   "metadata": {},
   "outputs": [
    {
     "name": "stdout",
     "output_type": "stream",
     "text": [
      "[1, 2, 3, 'a', 'b']\n",
      "5\n"
     ]
    },
    {
     "ename": "TypeError",
     "evalue": "'<' not supported between instances of 'str' and 'int'",
     "output_type": "error",
     "traceback": [
      "\u001b[1;31m---------------------------------------------------------------------------\u001b[0m",
      "\u001b[1;31mTypeError\u001b[0m                                 Traceback (most recent call last)",
      "Cell \u001b[1;32mIn[22], line 3\u001b[0m\n\u001b[0;32m      1\u001b[0m \u001b[38;5;28mprint\u001b[39m(l3)\n\u001b[0;32m      2\u001b[0m \u001b[38;5;28mprint\u001b[39m(\u001b[38;5;28mlen\u001b[39m(l3))\n\u001b[1;32m----> 3\u001b[0m \u001b[38;5;28mprint\u001b[39m(\u001b[38;5;28mmin\u001b[39m(l3))\n\u001b[0;32m      4\u001b[0m \u001b[38;5;28mprint\u001b[39m(\u001b[38;5;28mmax\u001b[39m(l3))\n\u001b[0;32m      5\u001b[0m \u001b[38;5;28mprint\u001b[39m(\u001b[38;5;28msum\u001b[39m(l3))\n",
      "\u001b[1;31mTypeError\u001b[0m: '<' not supported between instances of 'str' and 'int'"
     ]
    }
   ],
   "source": [
    "print(l3)\n",
    "print(len(l3))\n",
    "print(min(l3))\n",
    "print(max(l3))\n",
    "print(sum(l3))"
   ]
  },
  {
   "cell_type": "code",
   "execution_count": 23,
   "id": "eb68a358",
   "metadata": {},
   "outputs": [
    {
     "name": "stdout",
     "output_type": "stream",
     "text": [
      "[1, 2, 3, 'a', 'b', 'c', 'true', 10.9, (20+30j)]\n",
      "9\n"
     ]
    },
    {
     "ename": "TypeError",
     "evalue": "'<' not supported between instances of 'str' and 'int'",
     "output_type": "error",
     "traceback": [
      "\u001b[1;31m---------------------------------------------------------------------------\u001b[0m",
      "\u001b[1;31mTypeError\u001b[0m                                 Traceback (most recent call last)",
      "Cell \u001b[1;32mIn[23], line 3\u001b[0m\n\u001b[0;32m      1\u001b[0m \u001b[38;5;28mprint\u001b[39m(l4)\n\u001b[0;32m      2\u001b[0m \u001b[38;5;28mprint\u001b[39m(\u001b[38;5;28mlen\u001b[39m(l4))\n\u001b[1;32m----> 3\u001b[0m \u001b[38;5;28mprint\u001b[39m(\u001b[38;5;28mmin\u001b[39m(l4))\n\u001b[0;32m      4\u001b[0m \u001b[38;5;28mprint\u001b[39m(\u001b[38;5;28mmax\u001b[39m(l4))\n\u001b[0;32m      5\u001b[0m \u001b[38;5;28mprint\u001b[39m(\u001b[38;5;28msum\u001b[39m(l4))\n",
      "\u001b[1;31mTypeError\u001b[0m: '<' not supported between instances of 'str' and 'int'"
     ]
    }
   ],
   "source": [
    "print(l4)\n",
    "print(len(l4))\n",
    "print(min(l4))\n",
    "print(max(l4))\n",
    "print(sum(l4))"
   ]
  },
  {
   "cell_type": "code",
   "execution_count": 24,
   "id": "63c5ce7a",
   "metadata": {},
   "outputs": [
    {
     "name": "stdout",
     "output_type": "stream",
     "text": [
      "[100, 100, 100]\n",
      "3\n",
      "100\n",
      "100\n",
      "300\n"
     ]
    }
   ],
   "source": [
    "print(l5)\n",
    "print(len(l5))\n",
    "print(min(l5))\n",
    "print(max(l5))\n",
    "print(sum(l5))"
   ]
  },
  {
   "cell_type": "code",
   "execution_count": 27,
   "id": "ba1481dc",
   "metadata": {},
   "outputs": [
    {
     "data": {
      "text/plain": [
       "[1, 2, 3]"
      ]
     },
     "execution_count": 27,
     "metadata": {},
     "output_type": "execute_result"
    }
   ],
   "source": [
    "sorted(l1)\n",
    "#by default reverse=false\n",
    "#which means accending order"
   ]
  },
  {
   "cell_type": "code",
   "execution_count": 30,
   "id": "3a4c343b",
   "metadata": {},
   "outputs": [
    {
     "data": {
      "text/plain": [
       "[3, 2, 1]"
      ]
     },
     "execution_count": 30,
     "metadata": {},
     "output_type": "execute_result"
    }
   ],
   "source": [
    "#if you want to do decending order\n",
    "# reverse=True\n",
    "sorted(l1,reverse=True)\n"
   ]
  },
  {
   "cell_type": "code",
   "execution_count": 35,
   "id": "d4db68e1",
   "metadata": {},
   "outputs": [
    {
     "name": "stdout",
     "output_type": "stream",
     "text": [
      "['apple', 'banana', 'cherry']\n",
      "['cherry', 'banana', 'apple']\n"
     ]
    }
   ],
   "source": [
    "print(sorted(l2))\n",
    "print(sorted(l2,reverse=True))"
   ]
  },
  {
   "cell_type": "code",
   "execution_count": 40,
   "id": "47270375",
   "metadata": {},
   "outputs": [
    {
     "ename": "TypeError",
     "evalue": "'<' not supported between instances of 'str' and 'int'",
     "output_type": "error",
     "traceback": [
      "\u001b[1;31m---------------------------------------------------------------------------\u001b[0m",
      "\u001b[1;31mTypeError\u001b[0m                                 Traceback (most recent call last)",
      "Cell \u001b[1;32mIn[40], line 1\u001b[0m\n\u001b[1;32m----> 1\u001b[0m \u001b[38;5;28mprint\u001b[39m(\u001b[38;5;28msorted\u001b[39m(l3))\n",
      "\u001b[1;31mTypeError\u001b[0m: '<' not supported between instances of 'str' and 'int'"
     ]
    }
   ],
   "source": [
    "print(sorted(l3))"
   ]
  },
  {
   "cell_type": "code",
   "execution_count": 38,
   "id": "f7742320",
   "metadata": {},
   "outputs": [
    {
     "ename": "TypeError",
     "evalue": "'<' not supported between instances of 'int' and 'str'",
     "output_type": "error",
     "traceback": [
      "\u001b[1;31m---------------------------------------------------------------------------\u001b[0m",
      "\u001b[1;31mTypeError\u001b[0m                                 Traceback (most recent call last)",
      "Cell \u001b[1;32mIn[38], line 1\u001b[0m\n\u001b[1;32m----> 1\u001b[0m \u001b[38;5;28mprint\u001b[39m(\u001b[38;5;28msorted\u001b[39m(l3,reverse\u001b[38;5;241m=\u001b[39m\u001b[38;5;28;01mTrue\u001b[39;00m))\n",
      "\u001b[1;31mTypeError\u001b[0m: '<' not supported between instances of 'int' and 'str'"
     ]
    }
   ],
   "source": [
    "print(sorted(l3,reverse=True))"
   ]
  },
  {
   "cell_type": "code",
   "execution_count": null,
   "id": "bcbcfb6d",
   "metadata": {},
   "outputs": [],
   "source": [
    "- In sorted length function only work\n",
    "- remaining will not work"
   ]
  },
  {
   "cell_type": "markdown",
   "id": "6fa2cd5c",
   "metadata": {},
   "source": [
    "$Reversed$"
   ]
  },
  {
   "cell_type": "code",
   "execution_count": 6,
   "id": "43f48ea2",
   "metadata": {},
   "outputs": [
    {
     "name": "stdout",
     "output_type": "stream",
     "text": [
      "3\n",
      "2\n",
      "1\n"
     ]
    }
   ],
   "source": [
    "val1=reversed(l1)\n",
    "for i in val1:\n",
    "    print(i)"
   ]
  },
  {
   "cell_type": "code",
   "execution_count": 47,
   "id": "78f7fa85",
   "metadata": {},
   "outputs": [
    {
     "name": "stdout",
     "output_type": "stream",
     "text": [
      "cherry\n",
      "banana\n",
      "apple\n"
     ]
    }
   ],
   "source": [
    "val1=reversed(l2)\n",
    "for i in val1:\n",
    "    print(i)"
   ]
  },
  {
   "cell_type": "code",
   "execution_count": 48,
   "id": "83329ef2",
   "metadata": {},
   "outputs": [
    {
     "name": "stdout",
     "output_type": "stream",
     "text": [
      "b\n",
      "a\n",
      "3\n",
      "2\n",
      "1\n"
     ]
    }
   ],
   "source": [
    "val1=reversed(l3)\n",
    "for i in val1:\n",
    "    print(i)"
   ]
  },
  {
   "cell_type": "code",
   "execution_count": 49,
   "id": "95cb6490",
   "metadata": {},
   "outputs": [
    {
     "name": "stdout",
     "output_type": "stream",
     "text": [
      "(20+30j)\n",
      "10.9\n",
      "true\n",
      "c\n",
      "b\n",
      "a\n",
      "3\n",
      "2\n",
      "1\n"
     ]
    }
   ],
   "source": [
    "val1=reversed(l4)\n",
    "for i in val1:\n",
    "    print(i)"
   ]
  },
  {
   "cell_type": "markdown",
   "id": "cd0e6612",
   "metadata": {},
   "source": [
    "$concadination$"
   ]
  },
  {
   "cell_type": "code",
   "execution_count": 51,
   "id": "cf03bf96",
   "metadata": {},
   "outputs": [
    {
     "data": {
      "text/plain": [
       "[1, 2, 3, 'apple', 'banana', 'cherry']"
      ]
     },
     "execution_count": 51,
     "metadata": {},
     "output_type": "execute_result"
    }
   ],
   "source": [
    "l1+l2"
   ]
  },
  {
   "cell_type": "code",
   "execution_count": 55,
   "id": "4a5e8d96",
   "metadata": {},
   "outputs": [
    {
     "data": {
      "text/plain": [
       "['apple', 'banana', 'cherry', 1, 2, 3]"
      ]
     },
     "execution_count": 55,
     "metadata": {},
     "output_type": "execute_result"
    }
   ],
   "source": [
    "l2+l1"
   ]
  },
  {
   "cell_type": "markdown",
   "id": "1de5e47c",
   "metadata": {},
   "source": [
    "$in$"
   ]
  },
  {
   "cell_type": "code",
   "execution_count": 56,
   "id": "f90cf2d4",
   "metadata": {},
   "outputs": [
    {
     "name": "stdout",
     "output_type": "stream",
     "text": [
      "p\n",
      "y\n",
      "t\n",
      "h\n",
      "o\n",
      "n\n"
     ]
    }
   ],
   "source": [
    "s1='python'\n",
    "for i in s1:\n",
    "    print(i)"
   ]
  },
  {
   "cell_type": "code",
   "execution_count": 57,
   "id": "056f7e69",
   "metadata": {},
   "outputs": [
    {
     "name": "stdout",
     "output_type": "stream",
     "text": [
      "1\n",
      "2\n",
      "3\n"
     ]
    }
   ],
   "source": [
    "for i in l1:\n",
    "    print(i)"
   ]
  },
  {
   "cell_type": "markdown",
   "id": "1c8f233a",
   "metadata": {},
   "source": [
    "$index$"
   ]
  },
  {
   "cell_type": "code",
   "execution_count": null,
   "id": "1f7e4bb9",
   "metadata": {},
   "outputs": [],
   "source": [
    "-6 -5 -4 -3 -2 -1\n",
    "P  Y  T  H  O  N\n",
    "0  1  2  3  4  5"
   ]
  },
  {
   "cell_type": "code",
   "execution_count": 61,
   "id": "cf5bc28c",
   "metadata": {},
   "outputs": [
    {
     "data": {
      "text/plain": [
       "('apple', 'banana', 'cherry')"
      ]
     },
     "execution_count": 61,
     "metadata": {},
     "output_type": "execute_result"
    }
   ],
   "source": [
    "l2[0],l2[1],l2[2]"
   ]
  },
  {
   "cell_type": "code",
   "execution_count": 62,
   "id": "e9f5c570",
   "metadata": {},
   "outputs": [
    {
     "data": {
      "text/plain": [
       "(1, 2, 3)"
      ]
     },
     "execution_count": 62,
     "metadata": {},
     "output_type": "execute_result"
    }
   ],
   "source": [
    "l1[0],l1[1],l1[2]"
   ]
  },
  {
   "cell_type": "code",
   "execution_count": 64,
   "id": "b8ed8b51",
   "metadata": {},
   "outputs": [
    {
     "data": {
      "text/plain": [
       "(1, 2, 3, 'a', 'b')"
      ]
     },
     "execution_count": 64,
     "metadata": {},
     "output_type": "execute_result"
    }
   ],
   "source": [
    "l3[0],l3[1],l3[2],l3[3],l4[4]"
   ]
  },
  {
   "cell_type": "code",
   "execution_count": 70,
   "id": "1f4016bf",
   "metadata": {},
   "outputs": [
    {
     "name": "stdout",
     "output_type": "stream",
     "text": [
      "0 apple\n",
      "1 banana\n",
      "2 cherry\n"
     ]
    }
   ],
   "source": [
    "for i in range(len(l2)):\n",
    "    print(i,l2[i])"
   ]
  },
  {
   "cell_type": "code",
   "execution_count": 71,
   "id": "78a71456",
   "metadata": {},
   "outputs": [
    {
     "name": "stdout",
     "output_type": "stream",
     "text": [
      "the positive index of apple is 0\n",
      "the positive index of banana is 1\n",
      "the positive index of cherry is 2\n"
     ]
    }
   ],
   "source": [
    "for i in range(len(l2)):\n",
    "    print(\"the positive index of {} is {}\".format(l2[i],i))"
   ]
  },
  {
   "cell_type": "code",
   "execution_count": 82,
   "id": "e3b6180e",
   "metadata": {},
   "outputs": [
    {
     "name": "stdout",
     "output_type": "stream",
     "text": [
      "the negitive index of apple is -3\n",
      "the negitive index of banana is -2\n",
      "the negitive index of cherry is -1\n"
     ]
    }
   ],
   "source": [
    "for i in range(len(l2)):\n",
    "    print(\"the negitive index of {} is {}\".format(l2[i],i-3))"
   ]
  },
  {
   "cell_type": "code",
   "execution_count": 90,
   "id": "7c9e6c34",
   "metadata": {},
   "outputs": [
    {
     "name": "stdout",
     "output_type": "stream",
     "text": [
      "the negitive index of 0 and the positive index of apple for -3\n",
      "the negitive index of 1 and the positive index of banana for -2\n",
      "the negitive index of 2 and the positive index of cherry for -1\n"
     ]
    }
   ],
   "source": [
    "for i in range(len(l2)):\n",
    "    print(\"the negitive index of {} and the positive index of {} for {}\".format(i,l2[i],i-3))"
   ]
  },
  {
   "cell_type": "markdown",
   "id": "f54b2e8d",
   "metadata": {},
   "source": [
    "$strings are immutable$"
   ]
  },
  {
   "cell_type": "markdown",
   "id": "8606349c",
   "metadata": {},
   "source": [
    "$slice$"
   ]
  },
  {
   "cell_type": "code",
   "execution_count": null,
   "id": "b72d4b41",
   "metadata": {},
   "outputs": [],
   "source": [
    "-16 -15 -14 -13 -12 -11  -10  -9  -8  -7  -6  -5   4  -3     -2      -1    \n",
    " 1 , 2,  3,  4,  5,  'A','B' ,'C','D','E',100,200,300,400,'Apple','Banana'\n",
    " 0   1   2   3   4    5   6     7  8   9  10   11  12  13    14    15  "
   ]
  },
  {
   "cell_type": "code",
   "execution_count": 101,
   "id": "00747814",
   "metadata": {},
   "outputs": [
    {
     "name": "stdout",
     "output_type": "stream",
     "text": [
      "[4, 'A', 'C', 'E', 200, 400]\n",
      "[]\n",
      "[]\n",
      "[4]\n",
      "[400, 200, 'E', 'C', 'A', 4]\n",
      "[400]\n",
      "[]\n",
      "[1, 2, 3, 4, 5, 'A', 'B', 'C', 'D', 'E', 100, 200, 300, 400, 'Apple', 'Banana']\n",
      "['Banana', 'Apple', 400, 300, 200, 100, 'E', 'D', 'C', 'B', 'A', 5, 4, 3, 2, 1]\n"
     ]
    }
   ],
   "source": [
    "list1= [1,2,3,4,5,'A','B' ,'C','D','E',100,200,300,400,'Apple','Banana']\n",
    "print(list1[3:14:2])\n",
    "print(list1[3:14:-2])\n",
    "print(list1[3:-14:2])\n",
    "print(list1[3:-14:-2])\n",
    "print(list1[-3:-14:-2])\n",
    "print(list1[-3:14:2])\n",
    "print(list1[-3:-14:2])\n",
    "print(list1[::])\n",
    "print(list1[::-1])"
   ]
  },
  {
   "cell_type": "code",
   "execution_count": 99,
   "id": "9996ecb3",
   "metadata": {},
   "outputs": [
    {
     "name": "stdout",
     "output_type": "stream",
     "text": [
      "the positive index of 0  and the negitive index of 1 for -16\n",
      "the positive index of 1  and the negitive index of 2 for -15\n",
      "the positive index of 2  and the negitive index of 3 for -14\n",
      "the positive index of 3  and the negitive index of 4 for -13\n",
      "the positive index of 4  and the negitive index of 5 for -12\n",
      "the positive index of 5  and the negitive index of A for -11\n",
      "the positive index of 6  and the negitive index of B for -10\n",
      "the positive index of 7  and the negitive index of C for -9\n",
      "the positive index of 8  and the negitive index of D for -8\n",
      "the positive index of 9  and the negitive index of E for -7\n",
      "the positive index of 10  and the negitive index of 100 for -6\n",
      "the positive index of 11  and the negitive index of 200 for -5\n",
      "the positive index of 12  and the negitive index of 300 for -4\n",
      "the positive index of 13  and the negitive index of 400 for -3\n",
      "the positive index of 14  and the negitive index of Apple for -2\n",
      "the positive index of 15  and the negitive index of Banana for -1\n"
     ]
    }
   ],
   "source": [
    "for i in range(len(list1)):\n",
    "    print(\"the positive index of {}  and the negitive index of {} for {}\".format(i,list1[i],i-16))"
   ]
  },
  {
   "cell_type": "code",
   "execution_count": 9,
   "id": "0e1782d0",
   "metadata": {},
   "outputs": [
    {
     "name": "stdout",
     "output_type": "stream",
     "text": [
      "4\n",
      "['A', 'B']\n",
      "B\n",
      "B\n"
     ]
    }
   ],
   "source": [
    "list1=[1,2,3,['A','B']]\n",
    "print(len(list1))\n",
    "ol=list1[3]\n",
    "print(ol)\n",
    "print(ol[1])\n"
   ]
  },
  {
   "cell_type": "code",
   "execution_count": 11,
   "id": "265b52e2",
   "metadata": {},
   "outputs": [
    {
     "data": {
      "text/plain": [
       "'B'"
      ]
     },
     "execution_count": 11,
     "metadata": {},
     "output_type": "execute_result"
    }
   ],
   "source": [
    "list1[3][1]"
   ]
  },
  {
   "cell_type": "code",
   "execution_count": 22,
   "id": "72d3d348",
   "metadata": {},
   "outputs": [
    {
     "name": "stdout",
     "output_type": "stream",
     "text": [
      "1\n",
      "['Apple', 'Banana']\n",
      "Banana\n",
      "Apple\n"
     ]
    }
   ],
   "source": [
    "list2=[['Apple','Banana']]\n",
    "print(len(list2))\n",
    "print(list2[0])\n",
    "print(list2[0][1])\n",
    "print(list2[0][0])"
   ]
  },
  {
   "cell_type": "code",
   "execution_count": 42,
   "id": "67dd34a1",
   "metadata": {},
   "outputs": [
    {
     "name": "stdout",
     "output_type": "stream",
     "text": [
      "1\n",
      "['A', 'B', [1, 20]]\n",
      "[1, 20]\n",
      "20\n"
     ]
    }
   ],
   "source": [
    "list3=[['A','B',[1,20]]]\n",
    "print(len(list3))\n",
    "print(list3[0])\n",
    "print(list3[0][2])\n",
    "print(list3[0][2][1])"
   ]
  },
  {
   "cell_type": "code",
   "execution_count": 52,
   "id": "203f12ad",
   "metadata": {},
   "outputs": [
    {
     "name": "stdout",
     "output_type": "stream",
     "text": [
      "2\n"
     ]
    },
    {
     "data": {
      "text/plain": [
       "'h'"
      ]
     },
     "execution_count": 52,
     "metadata": {},
     "output_type": "execute_result"
    }
   ],
   "source": [
    "list3=['hyd',['A','B',[1,20]]]\n",
    "print(len(list3))\n",
    "list3[0]\n"
   ]
  },
  {
   "cell_type": "code",
   "execution_count": 66,
   "id": "f745cba8",
   "metadata": {},
   "outputs": [
    {
     "data": {
      "text/plain": [
       "'apple'"
      ]
     },
     "execution_count": 66,
     "metadata": {},
     "output_type": "execute_result"
    }
   ],
   "source": [
    "list7=[[[[[[[['cherry',['apple']]]]]]]]]\n",
    "list7[0][0][0][0][0][0][0][1][0]"
   ]
  },
  {
   "cell_type": "code",
   "execution_count": 75,
   "id": "7f8eca4a",
   "metadata": {},
   "outputs": [
    {
     "name": "stdout",
     "output_type": "stream",
     "text": [
      "mumbai\n",
      "bhopal\n",
      "chennai\n"
     ]
    }
   ],
   "source": [
    "l1=['hyd','mumbai','bhopal','chennai']\n",
    "#print the element which are having len of charcter >5\n",
    "for i in l1:\n",
    "    if len(i)>5:\n",
    "        print(i)\n",
    "    "
   ]
  },
  {
   "cell_type": "code",
   "execution_count": 83,
   "id": "1af8cb74",
   "metadata": {},
   "outputs": [
    {
     "name": "stdout",
     "output_type": "stream",
     "text": [
      "HYD\n",
      "MUMBAI\n",
      "BHOPAL\n",
      "CHENNAI\n"
     ]
    }
   ],
   "source": [
    "l1=['hyd','mumbai','bhopal','chennai']\n",
    "#print all upper cases\n",
    "for i in l1:\n",
    "    print(i.upper())"
   ]
  },
  {
   "cell_type": "code",
   "execution_count": 95,
   "id": "5486baea",
   "metadata": {},
   "outputs": [
    {
     "name": "stdout",
     "output_type": "stream",
     "text": [
      "hyd\n",
      "chennai\n"
     ]
    }
   ],
   "source": [
    "l1=l1=['hyd','mum#bai','bh#opal','chennai']\n",
    "#retrive the elements which are not having #\n",
    "for i in l1:\n",
    "    if \"#\"  not in i:\n",
    "        print(i)"
   ]
  },
  {
   "cell_type": "code",
   "execution_count": 121,
   "id": "6f4614c0",
   "metadata": {},
   "outputs": [
    {
     "name": "stdout",
     "output_type": "stream",
     "text": [
      "python hello\n",
      "python my\n",
      "python hello\n"
     ]
    }
   ],
   "source": [
    "str1='hello my name is python'\n",
    "#identify the max len word\n",
    "#min len of word\n",
    "print(max(str1.split()),min(str1.split()))\n",
    "l1=str1.split()\n",
    "print(max(l1,key=len),min(l1,key=len))\n",
    "print(max(l1,key=ascii),min(l1,key=ascii))"
   ]
  },
  {
   "cell_type": "markdown",
   "id": "cec762fe",
   "metadata": {},
   "source": [
    "**iterable**\n",
    "- if you  able to print char or elemnents using for loop\n",
    "- list,string,tuple,dictionaries"
   ]
  },
  {
   "cell_type": "code",
   "execution_count": 156,
   "id": "4b64ae48",
   "metadata": {
    "scrolled": true
   },
   "outputs": [
    {
     "name": "stdout",
     "output_type": "stream",
     "text": [
      "who is pm of india?\n",
      "enter the answer:modi\n",
      "what is capital of india?\n",
      "enter the answer:delhi\n",
      "no of states in india\n",
      "enter the answer:29\n",
      "who is the capitain of ict\n",
      "enter the answer:rohit sharma\n",
      "your total obtained marks is: 4\n"
     ]
    }
   ],
   "source": [
    "qns=['who is pm of india?','what is capital of india?','no of states in india','who is the capitain of ict']\n",
    "ans=['modi','delhi','29','rohit sharma']\n",
    "marks=0\n",
    "for i in range(len(qns)):\n",
    "    print(qns[i])\n",
    "    answer=input('enter the answer:')\n",
    "    if answer.casefold()==ans[i].casefold():\n",
    "        marks+=1\n",
    "print('your total obtained marks is:',marks)3"
   ]
  },
  {
   "cell_type": "markdown",
   "id": "44b33c64",
   "metadata": {},
   "source": [
    "$08-02-2024$"
   ]
  },
  {
   "cell_type": "code",
   "execution_count": 1,
   "id": "79c818b2",
   "metadata": {},
   "outputs": [
    {
     "data": {
      "text/plain": [
       "['__add__',\n",
       " '__class__',\n",
       " '__class_getitem__',\n",
       " '__contains__',\n",
       " '__delattr__',\n",
       " '__delitem__',\n",
       " '__dir__',\n",
       " '__doc__',\n",
       " '__eq__',\n",
       " '__format__',\n",
       " '__ge__',\n",
       " '__getattribute__',\n",
       " '__getitem__',\n",
       " '__getstate__',\n",
       " '__gt__',\n",
       " '__hash__',\n",
       " '__iadd__',\n",
       " '__imul__',\n",
       " '__init__',\n",
       " '__init_subclass__',\n",
       " '__iter__',\n",
       " '__le__',\n",
       " '__len__',\n",
       " '__lt__',\n",
       " '__mul__',\n",
       " '__ne__',\n",
       " '__new__',\n",
       " '__reduce__',\n",
       " '__reduce_ex__',\n",
       " '__repr__',\n",
       " '__reversed__',\n",
       " '__rmul__',\n",
       " '__setattr__',\n",
       " '__setitem__',\n",
       " '__sizeof__',\n",
       " '__str__',\n",
       " '__subclasshook__',\n",
       " 'append',\n",
       " 'clear',\n",
       " 'copy',\n",
       " 'count',\n",
       " 'extend',\n",
       " 'index',\n",
       " 'insert',\n",
       " 'pop',\n",
       " 'remove',\n",
       " 'reverse',\n",
       " 'sort']"
      ]
     },
     "execution_count": 1,
     "metadata": {},
     "output_type": "execute_result"
    }
   ],
   "source": [
    "dir([])"
   ]
  },
  {
   "cell_type": "code",
   "execution_count": null,
   "id": "d7aebf3b",
   "metadata": {},
   "outputs": [],
   "source": [
    " 'append',\n",
    " 'clear',\n",
    " 'copy',\n",
    " 'count',\n",
    " 'extend',\n",
    " 'index',\n",
    " 'insert',\n",
    " 'pop',\n",
    " 'remove',\n",
    " 'reverse',\n",
    " 'sort'"
   ]
  },
  {
   "cell_type": "markdown",
   "id": "452325ca",
   "metadata": {},
   "source": [
    "$clear$"
   ]
  },
  {
   "cell_type": "code",
   "execution_count": 5,
   "id": "9779dc2a",
   "metadata": {},
   "outputs": [
    {
     "data": {
      "text/plain": [
       "[]"
      ]
     },
     "execution_count": 5,
     "metadata": {},
     "output_type": "execute_result"
    }
   ],
   "source": [
    "list1=[1,2,3,4]\n",
    "list1.clear()\n",
    "list1"
   ]
  },
  {
   "cell_type": "markdown",
   "id": "5311ca0a",
   "metadata": {},
   "source": [
    "$copy$"
   ]
  },
  {
   "cell_type": "code",
   "execution_count": 7,
   "id": "153ebb50",
   "metadata": {},
   "outputs": [
    {
     "data": {
      "text/plain": [
       "([], ['A', 'B', 'C'])"
      ]
     },
     "execution_count": 7,
     "metadata": {},
     "output_type": "execute_result"
    }
   ],
   "source": [
    "l1=['A','B','C']\n",
    "l2=l1.copy()\n",
    "l1.clear()\n",
    "l1,l2"
   ]
  },
  {
   "cell_type": "markdown",
   "id": "df107d46",
   "metadata": {},
   "source": [
    "$pop-remove$"
   ]
  },
  {
   "cell_type": "code",
   "execution_count": 8,
   "id": "f6bcebc9",
   "metadata": {},
   "outputs": [
    {
     "data": {
      "text/plain": [
       "['a', 'b', 'c', 1, 2, 3]"
      ]
     },
     "execution_count": 8,
     "metadata": {},
     "output_type": "execute_result"
    }
   ],
   "source": [
    "l1=['a','b','c',1,2,3]\n",
    "l1"
   ]
  },
  {
   "cell_type": "code",
   "execution_count": 9,
   "id": "cd752bc5",
   "metadata": {},
   "outputs": [
    {
     "data": {
      "text/plain": [
       "3"
      ]
     },
     "execution_count": 9,
     "metadata": {},
     "output_type": "execute_result"
    }
   ],
   "source": [
    "l1.pop()\n",
    "#pop will delete the \n",
    "- "
   ]
  },
  {
   "cell_type": "code",
   "execution_count": 12,
   "id": "00a6ecf1",
   "metadata": {},
   "outputs": [
    {
     "ename": "TypeError",
     "evalue": "'str' object cannot be interpreted as an integer",
     "output_type": "error",
     "traceback": [
      "\u001b[1;31m---------------------------------------------------------------------------\u001b[0m",
      "\u001b[1;31mTypeError\u001b[0m                                 Traceback (most recent call last)",
      "Cell \u001b[1;32mIn[12], line 2\u001b[0m\n\u001b[0;32m      1\u001b[0m l1\u001b[38;5;241m=\u001b[39m[\u001b[38;5;124m'\u001b[39m\u001b[38;5;124ma\u001b[39m\u001b[38;5;124m'\u001b[39m,\u001b[38;5;124m'\u001b[39m\u001b[38;5;124mb\u001b[39m\u001b[38;5;124m'\u001b[39m,\u001b[38;5;124m'\u001b[39m\u001b[38;5;124mc\u001b[39m\u001b[38;5;124m'\u001b[39m,\u001b[38;5;241m1\u001b[39m,\u001b[38;5;241m2\u001b[39m,\u001b[38;5;241m3\u001b[39m,\u001b[38;5;241m100\u001b[39m]\n\u001b[1;32m----> 2\u001b[0m l1\u001b[38;5;241m.\u001b[39mpop(\u001b[38;5;124m'\u001b[39m\u001b[38;5;124ma\u001b[39m\u001b[38;5;124m'\u001b[39m)\n",
      "\u001b[1;31mTypeError\u001b[0m: 'str' object cannot be interpreted as an integer"
     ]
    }
   ],
   "source": [
    "l1=['a','b','c',1,2,3,100]\n",
    "l1.pop('a')"
   ]
  },
  {
   "cell_type": "code",
   "execution_count": null,
   "id": "beedcfc9",
   "metadata": {},
   "outputs": [],
   "source": [
    "l1.pop()#remove the last value index=-1\n",
    "l1.pop(0)#remove thre first element\n",
    "l1.pop(index=0)# it will give the error\n",
    "l1.pop(100)#if 100th index not there :index error\n",
    "l1.pop('a')#type error\n",
    "l1.pop([1,2])\n",
    "\n"
   ]
  },
  {
   "cell_type": "code",
   "execution_count": 22,
   "id": "3c2ec8cf",
   "metadata": {},
   "outputs": [
    {
     "data": {
      "text/plain": [
       "['B', 'C', 1, 2, 'A', 3, 100]"
      ]
     },
     "execution_count": 22,
     "metadata": {},
     "output_type": "execute_result"
    }
   ],
   "source": [
    "l1=['A','B','C',1,2,'A',3,100]\n",
    "l1.remove('A')\n",
    "l1"
   ]
  },
  {
   "cell_type": "code",
   "execution_count": null,
   "id": "6a740e59",
   "metadata": {},
   "outputs": [],
   "source": [
    "####################pop#####################\n",
    "# manually we are counting the index of element\n",
    "#that index we are passing through app\n",
    "#so that it is removing that particular element\n",
    "\n",
    "#draw back: we are manuallyb counting\n",
    "#draw back: we can over ride by using index\n",
    "\n",
    "####################remove#########################\n",
    "#remover is taking only direct value ,no need to provide the index\n",
    "draw back "
   ]
  },
  {
   "cell_type": "markdown",
   "id": "8e45bf4f",
   "metadata": {},
   "source": [
    "$index$"
   ]
  },
  {
   "cell_type": "code",
   "execution_count": 31,
   "id": "ce23b920",
   "metadata": {},
   "outputs": [
    {
     "data": {
      "text/plain": [
       "['A', 'B', 'C', 1, 2, 3, 100, 200, 'APPLE']"
      ]
     },
     "execution_count": 31,
     "metadata": {},
     "output_type": "execute_result"
    }
   ],
   "source": [
    "l1=['A','B','C',1,2,3,100,200,'APPLE','BALL']\n",
    "# I WANT TO DELETE ELEMENT\":3 USING POP\n",
    "#L1.POP(5)\n",
    "i=l1.index('BALL')\n",
    "l1.pop(i)\n",
    "l1"
   ]
  },
  {
   "cell_type": "code",
   "execution_count": 55,
   "id": "fd47b0b9",
   "metadata": {},
   "outputs": [
    {
     "name": "stdout",
     "output_type": "stream",
     "text": [
      "0 8 11\n"
     ]
    }
   ],
   "source": [
    "l1=['A','B','C',1,2,3,100,200,'A',400,500,'A','APPLE']\n",
    "i1=l1.index('A')\n",
    "i2=l1.index('A',i1+1)\n",
    "i3=l1.index('A',i2+1)\n",
    "print(i1,i2,i3)\n"
   ]
  },
  {
   "cell_type": "code",
   "execution_count": 57,
   "id": "81b3319f",
   "metadata": {},
   "outputs": [
    {
     "data": {
      "text/plain": [
       "['A', 'B', 'C', 1, 2, 100, 200, 'A', 400, 500, 'A', 'APPLE']"
      ]
     },
     "execution_count": 57,
     "metadata": {},
     "output_type": "execute_result"
    }
   ],
   "source": [
    "l1=['A','B','C',1,2,3,100,200,'A',400,500,'A','APPLE']\n",
    "del(l1[5])\n",
    "l1"
   ]
  },
  {
   "cell_type": "markdown",
   "id": "4a2233d2",
   "metadata": {},
   "source": [
    "$append-extend-insert$"
   ]
  },
  {
   "cell_type": "code",
   "execution_count": 61,
   "id": "a03d65c9",
   "metadata": {},
   "outputs": [
    {
     "data": {
      "text/plain": [
       "[100, 200, 300, 'mani']"
      ]
     },
     "execution_count": 61,
     "metadata": {},
     "output_type": "execute_result"
    }
   ],
   "source": [
    "l1=[100,200]\n",
    "l1.append(300)\n",
    "l1.append('mani')\n",
    "l1"
   ]
  },
  {
   "cell_type": "code",
   "execution_count": 62,
   "id": "531823c5",
   "metadata": {},
   "outputs": [
    {
     "data": {
      "text/plain": [
       "[100, 200, 300]"
      ]
     },
     "execution_count": 62,
     "metadata": {},
     "output_type": "execute_result"
    }
   ],
   "source": [
    "l1=[]\n",
    "l1.append(100)\n",
    "l1.append(200)\n",
    "l1.append(300)\n",
    "l1"
   ]
  },
  {
   "cell_type": "code",
   "execution_count": 67,
   "id": "543b9d39",
   "metadata": {},
   "outputs": [
    {
     "data": {
      "text/plain": [
       "['Mumbai', 'Chennai']"
      ]
     },
     "execution_count": 67,
     "metadata": {},
     "output_type": "execute_result"
    }
   ],
   "source": [
    "l1=['Hyd','Mumbai','Chennai']\n",
    "#print the element which are having len>3\n",
    "l2=[]\n",
    "for i in l1:\n",
    "     if len(i)>3:\n",
    "        l2.append(i)\n",
    "l2"
   ]
  },
  {
   "cell_type": "code",
   "execution_count": 72,
   "id": "f7415877",
   "metadata": {},
   "outputs": [
    {
     "data": {
      "text/plain": [
       "['Hyd', 'Mumbai', 'Delhi']"
      ]
     },
     "execution_count": 72,
     "metadata": {},
     "output_type": "execute_result"
    }
   ],
   "source": [
    "l1=['hyd','mumbai','delhi']\n",
    "l=[]\n",
    "for i in l1:\n",
    "    l.append(i.capitalize())\n",
    "l"
   ]
  },
  {
   "cell_type": "code",
   "execution_count": 79,
   "id": "6ad23d0a",
   "metadata": {},
   "outputs": [
    {
     "data": {
      "text/plain": [
       "['mum#bai', 'chenn#ai']"
      ]
     },
     "execution_count": 79,
     "metadata": {},
     "output_type": "execute_result"
    }
   ],
   "source": [
    "l1=['hyd','mum#bai','chenn#ai']\n",
    "l=[]\n",
    "for i in l1:\n",
    "    if '#' in i:\n",
    "        l.append(i)       \n",
    "l      "
   ]
  },
  {
   "cell_type": "code",
   "execution_count": 17,
   "id": "8c77f5a2",
   "metadata": {},
   "outputs": [
    {
     "name": "stdout",
     "output_type": "stream",
     "text": [
      "a\n",
      "a\n"
     ]
    }
   ],
   "source": [
    "s='hello hai how are you'\n",
    "#get the sum of all the indexes of 'a' letter \n",
    "#iterate it \n",
    "#extract the indexes of 'a'\n",
    "#and save in a list\n",
    "l=[]\n",
    "for i in range(len(s)):\n",
    "    if s[i]=='a':\n",
    "        print(s[i])\n"
   ]
  },
  {
   "cell_type": "code",
   "execution_count": 18,
   "id": "ca395c8b",
   "metadata": {},
   "outputs": [
    {
     "data": {
      "text/plain": [
       "([38, 18, 40, 12, 48, 30, 24], [31, 19, 19])"
      ]
     },
     "execution_count": 18,
     "metadata": {},
     "output_type": "execute_result"
    }
   ],
   "source": [
    "#wap ask the user get 10 random nos\n",
    "#even list  odd list\n",
    "#append even values in list\n",
    "#odd values in odd list\n",
    "\n",
    "\n",
    "import random\n",
    "e_list=[]\n",
    "o_list=[]\n",
    "for i in range(10):\n",
    "    num=random.randint(10,50)\n",
    "    if num%2==0:\n",
    "        e_list.append(num)\n",
    "    else:\n",
    "        o_list.append(num)\n",
    "e_list,o_list"
   ]
  },
  {
   "cell_type": "markdown",
   "id": "44971e25",
   "metadata": {},
   "source": [
    "$Extend$"
   ]
  },
  {
   "cell_type": "code",
   "execution_count": 94,
   "id": "345c09af",
   "metadata": {},
   "outputs": [
    {
     "name": "stdout",
     "output_type": "stream",
     "text": [
      "[1, 2, 3, 4, 'A', 'B', 'C']\n",
      "['A', 'B', 'C']\n"
     ]
    }
   ],
   "source": [
    "l1=[1,2,3,4]\n",
    "l2=['A','B','C']\n",
    "l1.extend(l2)\n",
    "print(l1)\n",
    "print(l2)"
   ]
  },
  {
   "cell_type": "code",
   "execution_count": 95,
   "id": "5365e782",
   "metadata": {},
   "outputs": [
    {
     "name": "stdout",
     "output_type": "stream",
     "text": [
      "[1, 2, 3, 4]\n",
      "['A', 'B', 'C', 1, 2, 3, 4]\n"
     ]
    }
   ],
   "source": [
    "l1=[1,2,3,4]\n",
    "l2=['A','B','C']\n",
    "l2.extend(l1)\n",
    "print(l1)\n",
    "print(l2)"
   ]
  },
  {
   "cell_type": "code",
   "execution_count": 97,
   "id": "f0ff582f",
   "metadata": {},
   "outputs": [
    {
     "name": "stdout",
     "output_type": "stream",
     "text": [
      "[1, 2, 3, 4, 'A', 'B', 'C']\n",
      "[1, 2, 3, 4]\n",
      "['A', 'B', 'C']\n"
     ]
    }
   ],
   "source": [
    "l1=[1,2,3,4]\n",
    "l2=['A','B','C']\n",
    "print(l1+l2)\n",
    "print(l1)\n",
    "print(l2)"
   ]
  },
  {
   "cell_type": "code",
   "execution_count": 105,
   "id": "a121e0a2",
   "metadata": {},
   "outputs": [
    {
     "data": {
      "text/plain": [
       "[1, 2, 3, 4, 'python']"
      ]
     },
     "execution_count": 105,
     "metadata": {},
     "output_type": "execute_result"
    }
   ],
   "source": [
    "l1=[1,2,3,4]\n",
    "l2='python'\n",
    "l1.append(l2)\n",
    "l1"
   ]
  },
  {
   "cell_type": "markdown",
   "id": "0060f21a",
   "metadata": {},
   "source": [
    "$reverse-sort$`"
   ]
  },
  {
   "cell_type": "code",
   "execution_count": 20,
   "id": "81bebcd7",
   "metadata": {},
   "outputs": [
    {
     "data": {
      "text/plain": [
       "[200, 100, 4, 3, 2, 1]"
      ]
     },
     "execution_count": 20,
     "metadata": {},
     "output_type": "execute_result"
    }
   ],
   "source": [
    "l1=[1,2,3,4,100,200]\n",
    "l1.reverse()   # it giving the list values in reverse direction\n",
    "l1"
   ]
  },
  {
   "cell_type": "code",
   "execution_count": 23,
   "id": "4ddc679a",
   "metadata": {},
   "outputs": [
    {
     "data": {
      "text/plain": [
       "[1, 2, 3, 4, 90, 100]"
      ]
     },
     "execution_count": 23,
     "metadata": {},
     "output_type": "execute_result"
    }
   ],
   "source": [
    "l1=[1,2,3,4,100,90]\n",
    "l1.sort()    # unorder list values gives  in a specific orderorder \n",
    "l1"
   ]
  },
  {
   "cell_type": "markdown",
   "id": "773f9444",
   "metadata": {},
   "source": [
    "$count$"
   ]
  },
  {
   "cell_type": "code",
   "execution_count": 7,
   "id": "f5f44276",
   "metadata": {},
   "outputs": [
    {
     "data": {
      "text/plain": [
       "3"
      ]
     },
     "execution_count": 7,
     "metadata": {},
     "output_type": "execute_result"
    }
   ],
   "source": [
    "l1=['a','a','a']\n",
    "l1.count('a')"
   ]
  },
  {
   "cell_type": "code",
   "execution_count": 2,
   "id": "3b00c4cf",
   "metadata": {},
   "outputs": [
    {
     "data": {
      "text/plain": [
       "['can', 'can', 'you', 'canner', 'can', 'not', 'can', 'you', 'buy', 'can']"
      ]
     },
     "execution_count": 2,
     "metadata": {},
     "output_type": "execute_result"
    }
   ],
   "source": [
    "s1='can can you canner can not can you buy can'\n",
    "l=s1.split()\n",
    "l"
   ]
  },
  {
   "cell_type": "code",
   "execution_count": 18,
   "id": "c44efeea",
   "metadata": {},
   "outputs": [
    {
     "name": "stdout",
     "output_type": "stream",
     "text": [
      "can 5\n",
      "can 5\n",
      "you 2\n",
      "canner 1\n",
      "can 5\n",
      "not 1\n",
      "can 5\n",
      "you 2\n",
      "buy 1\n",
      "can 5\n"
     ]
    }
   ],
   "source": [
    "l=s1.split()\n",
    "m=[]\n",
    "for i in l:\n",
    "    if i not in m:\n",
    "        print(i,l.count(i))\n",
    "        "
   ]
  },
  {
   "cell_type": "markdown",
   "id": "4615bd87",
   "metadata": {},
   "source": [
    "$word-frequency$"
   ]
  },
  {
   "cell_type": "code",
   "execution_count": 19,
   "id": "63be274e",
   "metadata": {},
   "outputs": [
    {
     "name": "stdout",
     "output_type": "stream",
     "text": [
      "can : 5\n",
      "you : 2\n",
      "canner : 1\n",
      "not : 1\n",
      "buy : 1\n"
     ]
    }
   ],
   "source": [
    "list_word=s1.split()\n",
    "l1=[]\n",
    "for word in list_word:\n",
    "    if word not in l1:\n",
    "        print(word,\":\",list_word.count(word))\n",
    "        l1.append(word)"
   ]
  },
  {
   "cell_type": "markdown",
   "id": "34ee39d9",
   "metadata": {},
   "source": [
    "$insert$"
   ]
  },
  {
   "cell_type": "code",
   "execution_count": 29,
   "id": "0ccce533",
   "metadata": {},
   "outputs": [
    {
     "data": {
      "text/plain": [
       "[1, 2, 3, 'A', 4]"
      ]
     },
     "execution_count": 29,
     "metadata": {},
     "output_type": "execute_result"
    }
   ],
   "source": [
    "l1=[1,2,3,4]\n",
    "l1.insert(3,'A')\n",
    "l1"
   ]
  },
  {
   "cell_type": "markdown",
   "id": "5e6a382e",
   "metadata": {},
   "source": [
    "$append$"
   ]
  },
  {
   "cell_type": "code",
   "execution_count": 31,
   "id": "63bc37ac",
   "metadata": {},
   "outputs": [
    {
     "data": {
      "text/plain": [
       "['mumbai', 'chennai', 'benguluru']"
      ]
     },
     "execution_count": 31,
     "metadata": {},
     "output_type": "execute_result"
    }
   ],
   "source": [
    "l1=['hyd','mumbai','chennai','benguluru']\n",
    "l2=[]\n",
    "for i in l1:\n",
    "    if len(i)>5:\n",
    "        l2.append(i)\n",
    "l2"
   ]
  },
  {
   "cell_type": "code",
   "execution_count": 34,
   "id": "dbb165d5",
   "metadata": {},
   "outputs": [
    {
     "data": {
      "text/plain": [
       "[1, 4, 9, 16, 25, 36, 49, 64, 81, 100]"
      ]
     },
     "execution_count": 34,
     "metadata": {},
     "output_type": "execute_result"
    }
   ],
   "source": [
    "#create the list of sqare of 1 to 10 numbers\n",
    "l=[]\n",
    "for i in range(1,11):\n",
    "    l.append(i*i)\n",
    "l"
   ]
  },
  {
   "cell_type": "markdown",
   "id": "94a06cce",
   "metadata": {},
   "source": [
    "$List- comprehenshion$"
   ]
  },
  {
   "cell_type": "markdown",
   "id": "60aca361",
   "metadata": {},
   "source": [
    "pattern-1:"
   ]
  },
  {
   "cell_type": "code",
   "execution_count": 2,
   "id": "3688a206",
   "metadata": {},
   "outputs": [
    {
     "data": {
      "text/plain": [
       "[1, 4, 9, 16, 25, 36, 49, 64, 81, 100]"
      ]
     },
     "execution_count": 2,
     "metadata": {},
     "output_type": "execute_result"
    }
   ],
   "source": [
    "num=[i*i for i in range(1,11)]\n",
    "num\n",
    "\n",
    "\n",
    "#num=[<output> <for loop with out :>]"
   ]
  },
  {
   "cell_type": "code",
   "execution_count": 46,
   "id": "4c6b1583",
   "metadata": {},
   "outputs": [
    {
     "data": {
      "text/plain": [
       "['Hyd', 'Mumbai']"
      ]
     },
     "execution_count": 46,
     "metadata": {},
     "output_type": "execute_result"
    }
   ],
   "source": [
    "l1=['hyd','mumbai']\n",
    "\n",
    "m=[i.capitalize() for i in l1]\n",
    "m"
   ]
  },
  {
   "cell_type": "markdown",
   "id": "dc4d34fc",
   "metadata": {},
   "source": [
    "$pattern-2$"
   ]
  },
  {
   "cell_type": "markdown",
   "id": "d89b984d",
   "metadata": {},
   "source": [
    "**for  and if condition**"
   ]
  },
  {
   "cell_type": "code",
   "execution_count": 49,
   "id": "01028593",
   "metadata": {},
   "outputs": [
    {
     "data": {
      "text/plain": [
       "['mumbai', 'chennai', 'benguluru']"
      ]
     },
     "execution_count": 49,
     "metadata": {},
     "output_type": "execute_result"
    }
   ],
   "source": [
    "l1=['hyd','mumbai','chennai','benguluru']\n",
    "l2=[i for i in l1 if len(i)>5]\n",
    "l2"
   ]
  },
  {
   "cell_type": "markdown",
   "id": "fe84353a",
   "metadata": {},
   "source": [
    "$pattern-3$\n",
    "**for-if else**"
   ]
  },
  {
   "cell_type": "code",
   "execution_count": 14,
   "id": "433c7b9f",
   "metadata": {},
   "outputs": [
    {
     "data": {
      "text/plain": [
       "['odd:1',\n",
       " 'even:2',\n",
       " 'odd:3',\n",
       " 'even:4',\n",
       " 'odd:5',\n",
       " 'even:6',\n",
       " 'odd:7',\n",
       " 'even:8',\n",
       " 'odd:9']"
      ]
     },
     "execution_count": 14,
     "metadata": {},
     "output_type": "execute_result"
    }
   ],
   "source": [
    "l=[]\n",
    "for i in range(1,10):\n",
    "    if i%2==0:\n",
    "        l.append(f'even{i}')\n",
    "    else:\n",
    "        l.append(f'odd{i}')\n",
    "        \n",
    "        \n",
    "l\n",
    "#[<if_output> <if_condition> else<else_output> <forloop>]\n",
    "\n",
    "s=[f'even:{i}' if i%2==0 else f'odd:{i}' for i in range(1,10)]\n",
    "s"
   ]
  },
  {
   "cell_type": "code",
   "execution_count": null,
   "id": "6a6ba5cd",
   "metadata": {},
   "outputs": [],
   "source": []
  },
  {
   "cell_type": "code",
   "execution_count": null,
   "id": "84a47319",
   "metadata": {},
   "outputs": [],
   "source": []
  },
  {
   "cell_type": "code",
   "execution_count": null,
   "id": "d3725689",
   "metadata": {},
   "outputs": [],
   "source": []
  }
 ],
 "metadata": {
  "kernelspec": {
   "display_name": "Python 3 (ipykernel)",
   "language": "python",
   "name": "python3"
  },
  "language_info": {
   "codemirror_mode": {
    "name": "ipython",
    "version": 3
   },
   "file_extension": ".py",
   "mimetype": "text/x-python",
   "name": "python",
   "nbconvert_exporter": "python",
   "pygments_lexer": "ipython3",
   "version": "3.11.5"
  }
 },
 "nbformat": 4,
 "nbformat_minor": 5
}
