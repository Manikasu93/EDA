{
 "cells": [
  {
   "cell_type": "code",
   "execution_count": 48,
   "id": "0906014b",
   "metadata": {},
   "outputs": [
    {
     "data": {
      "text/plain": [
       "'walcoma'"
      ]
     },
     "execution_count": 48,
     "metadata": {},
     "output_type": "execute_result"
    }
   ],
   "source": [
    "str1='welcome'\n",
    "str1.replace('e','a')"
   ]
  },
  {
   "cell_type": "markdown",
   "id": "db4f4474",
   "metadata": {},
   "source": [
    "$index$"
   ]
  },
  {
   "cell_type": "code",
   "execution_count": 20,
   "id": "c4eadb71",
   "metadata": {},
   "outputs": [
    {
     "data": {
      "text/plain": [
       "(1, 5, 9)"
      ]
     },
     "execution_count": 20,
     "metadata": {},
     "output_type": "execute_result"
    }
   ],
   "source": [
    "str2='hai hai hai'\n",
    "i1=str2.index('a')\n",
    "i2=str2.index('a',2)\n",
    "i3=str2.index('a',6)\n",
    "\n",
    "i1,i2,i3"
   ]
  },
  {
   "cell_type": "code",
   "execution_count": 23,
   "id": "0d306357",
   "metadata": {},
   "outputs": [
    {
     "data": {
      "text/plain": [
       "(1, 5, 9, 13)"
      ]
     },
     "execution_count": 23,
     "metadata": {},
     "output_type": "execute_result"
    }
   ],
   "source": [
    "str2='hai hai hai hai'\n",
    "i1=str2.index('a')\n",
    "i2=str2.index('a',i1+1)\n",
    "i3=str2.index('a',i2+1)\n",
    "i4=str2.index('a',i3+1)\n",
    "\n",
    "i1,i2,i3,i4"
   ]
  },
  {
   "cell_type": "markdown",
   "id": "24374d4d",
   "metadata": {},
   "source": [
    "**if sub string not found **\n",
    "- replace :same string\n",
    "- count   :0\n",
    "- index   :error"
   ]
  },
  {
   "cell_type": "markdown",
   "id": "881d763f",
   "metadata": {},
   "source": [
    "## FIND"
   ]
  },
  {
   "cell_type": "code",
   "execution_count": 33,
   "id": "63e2e907",
   "metadata": {},
   "outputs": [
    {
     "data": {
      "text/plain": [
       "(1, 5, 9, 13, -1)"
      ]
     },
     "execution_count": 33,
     "metadata": {},
     "output_type": "execute_result"
    }
   ],
   "source": [
    "str2='hai hai hai hai'\n",
    "i1=str2.find('a')\n",
    "i2=str2.find('a',i1+1)\n",
    "i3=str2.find('a',i2+1)\n",
    "i4=str2.find('a',i3+1)\n",
    "i5=str2.find('a',i4+1)\n",
    "\n",
    "i1,i2,i3,i4,i5"
   ]
  },
  {
   "cell_type": "markdown",
   "id": "2c75843e",
   "metadata": {},
   "source": [
    "**if sub string not found **\n",
    "- replace :same string\n",
    "- count   :0\n",
    "- index   :error\n",
    "- find     :- values"
   ]
  },
  {
   "cell_type": "code",
   "execution_count": 49,
   "id": "a83d4cc6",
   "metadata": {},
   "outputs": [
    {
     "name": "stdout",
     "output_type": "stream",
     "text": [
      "first name: omkar\n",
      "second name: nallagoni\n",
      "third name: cognizant\n"
     ]
    }
   ],
   "source": [
    "string='omkar.nallagoni@cognizant.com'\n",
    "string.find('.')\n",
    "string.find('.',string.find('.')+1)\n",
    "string.find('@')\n",
    "print('first name:',string[:string.find('.')])\n",
    "print('second name:',string[string.find('.')+1:string.find('@')])\n",
    "print('third name:',string[string.find('@')+1:string.find('.',string.find('.')+1)])"
   ]
  },
  {
   "cell_type": "code",
   "execution_count": 33,
   "id": "615da4dd",
   "metadata": {},
   "outputs": [
    {
     "data": {
      "text/plain": [
       "15"
      ]
     },
     "execution_count": 33,
     "metadata": {},
     "output_type": "execute_result"
    }
   ],
   "source": [
    "s1='virat.kohli@rcb.com'\n",
    "i1=s1.index('.')\n",
    "i2=s1.index('@')\n",
    "i3=s1.index('.',i1+1)\n",
    "fname=s1[:i1]\n",
    "sname=s1[i1+1:i2]\n",
    "cname=s1[i2+1:i3]\n",
    "fname,sname,cname"
   ]
  },
  {
   "cell_type": "markdown",
   "id": "cbc11f97",
   "metadata": {},
   "source": [
    "**l-strip,r-styrip,strip**"
   ]
  },
  {
   "cell_type": "code",
   "execution_count": 70,
   "id": "a606658a",
   "metadata": {},
   "outputs": [
    {
     "data": {
      "text/plain": [
       "('python', 'python ', ' python')"
      ]
     },
     "execution_count": 70,
     "metadata": {},
     "output_type": "execute_result"
    }
   ],
   "source": [
    "s1=' python '\n",
    "s2=' python'\n",
    "s3='python '\n",
    "s1.strip(),s1.lstrip(),s1.rstrip()"
   ]
  },
  {
   "cell_type": "code",
   "execution_count": 71,
   "id": "2933d5fc",
   "metadata": {},
   "outputs": [
    {
     "data": {
      "text/plain": [
       "('python', 'python', ' python')"
      ]
     },
     "execution_count": 71,
     "metadata": {},
     "output_type": "execute_result"
    }
   ],
   "source": [
    "s2.strip(),s2.lstrip(),s2.rstrip()   #notting mention means empyt "
   ]
  },
  {
   "cell_type": "code",
   "execution_count": 78,
   "id": "cfc11f87",
   "metadata": {},
   "outputs": [
    {
     "data": {
      "text/plain": [
       "'python'"
      ]
     },
     "execution_count": 78,
     "metadata": {},
     "output_type": "execute_result"
    }
   ],
   "source": [
    "str1='@@@python$$$'\n",
    "str1.rstrip('$').lstrip('@')\n",
    "str1.strip('@$')"
   ]
  },
  {
   "cell_type": "code",
   "execution_count": 65,
   "id": "d91f234d",
   "metadata": {},
   "outputs": [
    {
     "data": {
      "text/plain": [
       "'hello how are you'"
      ]
     },
     "execution_count": 65,
     "metadata": {},
     "output_type": "execute_result"
    }
   ],
   "source": [
    "str1='hello /r/r/n how are you'\n",
    "i1=str1.find(' ')\n",
    "a=str1[:i1+1]\n",
    "i2=str1.find('h',i1+1)\n",
    "i3=str1.find('u')\n",
    "b=str1[i2:i3+1]\n",
    "a+b"
   ]
  },
  {
   "cell_type": "markdown",
   "id": "b5fe5fe4",
   "metadata": {},
   "source": [
    "$starts with ends with$"
   ]
  },
  {
   "cell_type": "code",
   "execution_count": 82,
   "id": "6ad538e4",
   "metadata": {},
   "outputs": [
    {
     "data": {
      "text/plain": [
       "True"
      ]
     },
     "execution_count": 82,
     "metadata": {},
     "output_type": "execute_result"
    }
   ],
   "source": [
    "s1='hai how are you'\n",
    "s1.startswith('hai')"
   ]
  },
  {
   "cell_type": "code",
   "execution_count": 84,
   "id": "58972600",
   "metadata": {},
   "outputs": [
    {
     "data": {
      "text/plain": [
       "True"
      ]
     },
     "execution_count": 84,
     "metadata": {},
     "output_type": "execute_result"
    }
   ],
   "source": [
    "s1.startswith(s1)"
   ]
  },
  {
   "cell_type": "code",
   "execution_count": 90,
   "id": "727c2561",
   "metadata": {},
   "outputs": [
    {
     "data": {
      "text/plain": [
       "True"
      ]
     },
     "execution_count": 90,
     "metadata": {},
     "output_type": "execute_result"
    }
   ],
   "source": [
    "#.endswith('u')\n",
    "s1.endswith(s1)"
   ]
  },
  {
   "cell_type": "markdown",
   "id": "e2117d22",
   "metadata": {},
   "source": [
    "$split$"
   ]
  },
  {
   "cell_type": "code",
   "execution_count": 94,
   "id": "2d0cbe0d",
   "metadata": {},
   "outputs": [
    {
     "data": {
      "text/plain": [
       "['hai', 'how', 'are', 'you']"
      ]
     },
     "execution_count": 94,
     "metadata": {},
     "output_type": "execute_result"
    }
   ],
   "source": [
    "#it will split the words \n",
    "#And ther words out put will be in list\n",
    "s1='hai how are you'\n",
    "s1.split()"
   ]
  },
  {
   "cell_type": "code",
   "execution_count": 95,
   "id": "ada400d5",
   "metadata": {},
   "outputs": [
    {
     "data": {
      "text/plain": [
       "['h', 'i how ', 're you']"
      ]
     },
     "execution_count": 95,
     "metadata": {},
     "output_type": "execute_result"
    }
   ],
   "source": [
    "s1='hai how are you'\n",
    "s1.split('a')"
   ]
  },
  {
   "cell_type": "code",
   "execution_count": 96,
   "id": "fecc8a4e",
   "metadata": {},
   "outputs": [
    {
     "data": {
      "text/plain": [
       "['hai how are you']"
      ]
     },
     "execution_count": 96,
     "metadata": {},
     "output_type": "execute_result"
    }
   ],
   "source": [
    "s1='hai how are you'\n",
    "s1.split(',')"
   ]
  },
  {
   "cell_type": "code",
   "execution_count": 115,
   "id": "669693f3",
   "metadata": {},
   "outputs": [
    {
     "data": {
      "text/plain": [
       "['__add__',\n",
       " '__class__',\n",
       " '__contains__',\n",
       " '__delattr__',\n",
       " '__dir__',\n",
       " '__doc__',\n",
       " '__eq__',\n",
       " '__format__',\n",
       " '__ge__',\n",
       " '__getattribute__',\n",
       " '__getitem__',\n",
       " '__getnewargs__',\n",
       " '__getstate__',\n",
       " '__gt__',\n",
       " '__hash__',\n",
       " '__init__',\n",
       " '__init_subclass__',\n",
       " '__iter__',\n",
       " '__le__',\n",
       " '__len__',\n",
       " '__lt__',\n",
       " '__mod__',\n",
       " '__mul__',\n",
       " '__ne__',\n",
       " '__new__',\n",
       " '__reduce__',\n",
       " '__reduce_ex__',\n",
       " '__repr__',\n",
       " '__rmod__',\n",
       " '__rmul__',\n",
       " '__setattr__',\n",
       " '__sizeof__',\n",
       " '__str__',\n",
       " '__subclasshook__',\n",
       " 'capitalize',\n",
       " 'casefold',\n",
       " 'center',\n",
       " 'count',\n",
       " 'encode',\n",
       " 'endswith',\n",
       " 'expandtabs',\n",
       " 'find',\n",
       " 'format',\n",
       " 'format_map',\n",
       " 'index',\n",
       " 'isalnum',\n",
       " 'isalpha',\n",
       " 'isascii',\n",
       " 'isdecimal',\n",
       " 'isdigit',\n",
       " 'isidentifier',\n",
       " 'islower',\n",
       " 'isnumeric',\n",
       " 'isprintable',\n",
       " 'isspace',\n",
       " 'istitle',\n",
       " 'isupper',\n",
       " 'join',\n",
       " 'ljust',\n",
       " 'lower',\n",
       " 'lstrip',\n",
       " 'maketrans',\n",
       " 'partition',\n",
       " 'removeprefix',\n",
       " 'removesuffix',\n",
       " 'replace',\n",
       " 'rfind',\n",
       " 'rindex',\n",
       " 'rjust',\n",
       " 'rpartition',\n",
       " 'rsplit',\n",
       " 'rstrip',\n",
       " 'split',\n",
       " 'splitlines',\n",
       " 'startswith',\n",
       " 'strip',\n",
       " 'swapcase',\n",
       " 'title',\n",
       " 'translate',\n",
       " 'upper',\n",
       " 'zfill']"
      ]
     },
     "execution_count": 115,
     "metadata": {},
     "output_type": "execute_result"
    }
   ],
   "source": [
    "dir('')"
   ]
  },
  {
   "cell_type": "code",
   "execution_count": 99,
   "id": "879300b0",
   "metadata": {},
   "outputs": [
    {
     "data": {
      "text/plain": [
       "True"
      ]
     },
     "execution_count": 99,
     "metadata": {},
     "output_type": "execute_result"
    }
   ],
   "source": [
    "s1='python'\n",
    "s1.isalnum()"
   ]
  },
  {
   "cell_type": "code",
   "execution_count": 100,
   "id": "e3982d16",
   "metadata": {},
   "outputs": [
    {
     "data": {
      "text/plain": [
       "True"
      ]
     },
     "execution_count": 100,
     "metadata": {},
     "output_type": "execute_result"
    }
   ],
   "source": [
    "s1='python123'\n",
    "s1.isalnum()"
   ]
  },
  {
   "cell_type": "code",
   "execution_count": 101,
   "id": "fbaf8b96",
   "metadata": {},
   "outputs": [
    {
     "data": {
      "text/plain": [
       "True"
      ]
     },
     "execution_count": 101,
     "metadata": {},
     "output_type": "execute_result"
    }
   ],
   "source": [
    "s1='mani'\n",
    "s1.isalpha()"
   ]
  },
  {
   "cell_type": "code",
   "execution_count": 102,
   "id": "167186eb",
   "metadata": {},
   "outputs": [
    {
     "data": {
      "text/plain": [
       "False"
      ]
     },
     "execution_count": 102,
     "metadata": {},
     "output_type": "execute_result"
    }
   ],
   "source": [
    "s1='mani123'\n",
    "s1.isalpha()"
   ]
  },
  {
   "cell_type": "code",
   "execution_count": 103,
   "id": "d53b8a90",
   "metadata": {},
   "outputs": [
    {
     "data": {
      "text/plain": [
       "True"
      ]
     },
     "execution_count": 103,
     "metadata": {},
     "output_type": "execute_result"
    }
   ],
   "source": [
    "s1='mani'\n",
    "s1.isascii()"
   ]
  },
  {
   "cell_type": "code",
   "execution_count": 106,
   "id": "e80b880c",
   "metadata": {},
   "outputs": [
    {
     "data": {
      "text/plain": [
       "False"
      ]
     },
     "execution_count": 106,
     "metadata": {},
     "output_type": "execute_result"
    }
   ],
   "source": [
    "s1='MANI'\n",
    "s1.isdecimal()"
   ]
  },
  {
   "cell_type": "code",
   "execution_count": 107,
   "id": "5987ee39",
   "metadata": {},
   "outputs": [
    {
     "data": {
      "text/plain": [
       "False"
      ]
     },
     "execution_count": 107,
     "metadata": {},
     "output_type": "execute_result"
    }
   ],
   "source": [
    "s1='MANI'\n",
    "s1.isdigit()"
   ]
  },
  {
   "cell_type": "code",
   "execution_count": 1,
   "id": "b7c6b21c",
   "metadata": {},
   "outputs": [
    {
     "data": {
      "text/plain": [
       "True"
      ]
     },
     "execution_count": 1,
     "metadata": {},
     "output_type": "execute_result"
    }
   ],
   "source": [
    "s1='mani'\n",
    "s1.isidentifier()"
   ]
  },
  {
   "cell_type": "code",
   "execution_count": 109,
   "id": "277e940d",
   "metadata": {},
   "outputs": [
    {
     "data": {
      "text/plain": [
       "True"
      ]
     },
     "execution_count": 109,
     "metadata": {},
     "output_type": "execute_result"
    }
   ],
   "source": [
    "s1='mani'\n",
    "s1.islower()"
   ]
  },
  {
   "cell_type": "code",
   "execution_count": 110,
   "id": "6eef716e",
   "metadata": {},
   "outputs": [
    {
     "data": {
      "text/plain": [
       "False"
      ]
     },
     "execution_count": 110,
     "metadata": {},
     "output_type": "execute_result"
    }
   ],
   "source": [
    "s1='mani'\n",
    "s1.isnumeric()"
   ]
  },
  {
   "cell_type": "code",
   "execution_count": 111,
   "id": "6618787b",
   "metadata": {},
   "outputs": [
    {
     "data": {
      "text/plain": [
       "True"
      ]
     },
     "execution_count": 111,
     "metadata": {},
     "output_type": "execute_result"
    }
   ],
   "source": [
    "s1='mani'\n",
    "s1.isprintable()"
   ]
  },
  {
   "cell_type": "code",
   "execution_count": 112,
   "id": "9705d776",
   "metadata": {},
   "outputs": [
    {
     "data": {
      "text/plain": [
       "False"
      ]
     },
     "execution_count": 112,
     "metadata": {},
     "output_type": "execute_result"
    }
   ],
   "source": [
    "s1='mnai'\n",
    "s1.isspace()"
   ]
  },
  {
   "cell_type": "code",
   "execution_count": 113,
   "id": "b8b0579e",
   "metadata": {},
   "outputs": [
    {
     "data": {
      "text/plain": [
       "False"
      ]
     },
     "execution_count": 113,
     "metadata": {},
     "output_type": "execute_result"
    }
   ],
   "source": [
    "s1='mnai'\n",
    "s1.istitle()"
   ]
  },
  {
   "cell_type": "code",
   "execution_count": 114,
   "id": "6760b236",
   "metadata": {},
   "outputs": [
    {
     "data": {
      "text/plain": [
       "False"
      ]
     },
     "execution_count": 114,
     "metadata": {},
     "output_type": "execute_result"
    }
   ],
   "source": [
    "s1='mnai'\n",
    "s1.isupper()"
   ]
  },
  {
   "cell_type": "code",
   "execution_count": null,
   "id": "020d3913",
   "metadata": {},
   "outputs": [],
   "source": []
  },
  {
   "cell_type": "code",
   "execution_count": null,
   "id": "11d6927e",
   "metadata": {},
   "outputs": [],
   "source": []
  },
  {
   "cell_type": "code",
   "execution_count": null,
   "id": "0b5fa9b5",
   "metadata": {},
   "outputs": [],
   "source": []
  },
  {
   "cell_type": "code",
   "execution_count": null,
   "id": "2d649e13",
   "metadata": {},
   "outputs": [],
   "source": []
  },
  {
   "cell_type": "code",
   "execution_count": null,
   "id": "6a6d8432",
   "metadata": {},
   "outputs": [],
   "source": []
  },
  {
   "cell_type": "code",
   "execution_count": null,
   "id": "dd2d470b",
   "metadata": {},
   "outputs": [],
   "source": []
  },
  {
   "cell_type": "code",
   "execution_count": null,
   "id": "e269000e",
   "metadata": {},
   "outputs": [],
   "source": []
  },
  {
   "cell_type": "code",
   "execution_count": null,
   "id": "15b7df75",
   "metadata": {},
   "outputs": [],
   "source": []
  },
  {
   "cell_type": "code",
   "execution_count": null,
   "id": "e92d04b7",
   "metadata": {},
   "outputs": [],
   "source": []
  }
 ],
 "metadata": {
  "kernelspec": {
   "display_name": "Python 3 (ipykernel)",
   "language": "python",
   "name": "python3"
  },
  "language_info": {
   "codemirror_mode": {
    "name": "ipython",
    "version": 3
   },
   "file_extension": ".py",
   "mimetype": "text/x-python",
   "name": "python",
   "nbconvert_exporter": "python",
   "pygments_lexer": "ipython3",
   "version": "3.11.5"
  }
 },
 "nbformat": 4,
 "nbformat_minor": 5
}
