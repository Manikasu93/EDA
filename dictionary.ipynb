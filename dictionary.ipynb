{
 "cells": [
  {
   "cell_type": "code",
   "execution_count": 2,
   "id": "bf779209",
   "metadata": {},
   "outputs": [
    {
     "data": {
      "text/plain": [
       "['hai', 'how', 'are', 'you']"
      ]
     },
     "execution_count": 2,
     "metadata": {},
     "output_type": "execute_result"
    }
   ],
   "source": [
    "str1='hai how are you'\n",
    "l1=str1.split()\n",
    "l1"
   ]
  },
  {
   "cell_type": "code",
   "execution_count": 3,
   "id": "ee3845f9",
   "metadata": {},
   "outputs": [
    {
     "data": {
      "text/plain": [
       "['hai', 'how', 'are', 'you']"
      ]
     },
     "execution_count": 3,
     "metadata": {},
     "output_type": "execute_result"
    }
   ],
   "source": [
    "# now we having list of elements are there\n",
    "# we want to join\n",
    "l1"
   ]
  },
  {
   "cell_type": "code",
   "execution_count": 8,
   "id": "81445463",
   "metadata": {},
   "outputs": [
    {
     "data": {
      "text/plain": [
       "'hai how are you'"
      ]
     },
     "execution_count": 8,
     "metadata": {},
     "output_type": "execute_result"
    }
   ],
   "source": [
    "' '.join(l1) # concatination and join both are same"
   ]
  },
  {
   "cell_type": "code",
   "execution_count": 14,
   "id": "5ad8e163",
   "metadata": {},
   "outputs": [
    {
     "name": "stdout",
     "output_type": "stream",
     "text": [
      "ramesh 20\n",
      "suresh 25\n",
      "satesh 30\n"
     ]
    }
   ],
   "source": [
    "names=['ramesh','suresh','satesh']\n",
    "age=[20,25,30]\n",
    "\n",
    "for i in range(len(names)):\n",
    "               print(names[i],age[i])"
   ]
  },
  {
   "cell_type": "markdown",
   "id": "559cd600",
   "metadata": {},
   "source": [
    "$Zip$"
   ]
  },
  {
   "cell_type": "code",
   "execution_count": 4,
   "id": "1595a6f2",
   "metadata": {},
   "outputs": [
    {
     "name": "stdout",
     "output_type": "stream",
     "text": [
      "ramesh age is 20\n",
      "suresh age is 25\n",
      "satesh age is 30\n"
     ]
    }
   ],
   "source": [
    "names=['ramesh','suresh','satesh']\n",
    "age=[20,25,30]\n",
    "\n",
    "for i,j in zip(names,age):\n",
    "    print(f'{i} age is {j}')"
   ]
  },
  {
   "cell_type": "code",
   "execution_count": null,
   "id": "a94a1456",
   "metadata": {},
   "outputs": [],
   "source": [
    "names=['ramesh','suresh','satesh']\n",
    "age=[20,25,30]\n",
    "\n",
    "- if both are together why two lists "
   ]
  },
  {
   "cell_type": "code",
   "execution_count": null,
   "id": "f35f4755",
   "metadata": {},
   "outputs": [],
   "source": [
    "{<key>:<value>}"
   ]
  },
  {
   "cell_type": "code",
   "execution_count": 19,
   "id": "e3a16232",
   "metadata": {},
   "outputs": [
    {
     "data": {
      "text/plain": [
       "{'ramesh': 20, 'suresh': 25, 'satesh': 30}"
      ]
     },
     "execution_count": 19,
     "metadata": {},
     "output_type": "execute_result"
    }
   ],
   "source": [
    "d1={'ramesh':20,'suresh':25,'satesh':30}\n",
    "d1\n",
    "\n",
    "#ramesh,suresh,satesh are keys\n",
    "#20,25,30\n",
    "#key values pair together"
   ]
  },
  {
   "cell_type": "code",
   "execution_count": 21,
   "id": "fd9730ee",
   "metadata": {},
   "outputs": [
    {
     "data": {
      "text/plain": [
       "dict"
      ]
     },
     "execution_count": 21,
     "metadata": {},
     "output_type": "execute_result"
    }
   ],
   "source": [
    "type(d1)"
   ]
  },
  {
   "cell_type": "code",
   "execution_count": 23,
   "id": "b8d53ac1",
   "metadata": {},
   "outputs": [
    {
     "data": {
      "text/plain": [
       "{20: 'ramesh', 25: 'suresh', 30: 'satesh'}"
      ]
     },
     "execution_count": 23,
     "metadata": {},
     "output_type": "execute_result"
    }
   ],
   "source": [
    "d2={20:'ramesh',25:'suresh',30:'satesh'}\n",
    "d2"
   ]
  },
  {
   "cell_type": "code",
   "execution_count": 25,
   "id": "a99a8986",
   "metadata": {},
   "outputs": [
    {
     "data": {
      "text/plain": [
       "{20: 25}"
      ]
     },
     "execution_count": 25,
     "metadata": {},
     "output_type": "execute_result"
    }
   ],
   "source": [
    "d3={20:25}\n",
    "d3"
   ]
  },
  {
   "cell_type": "code",
   "execution_count": 27,
   "id": "c4baf8a0",
   "metadata": {},
   "outputs": [
    {
     "data": {
      "text/plain": [
       "{'$': 30}"
      ]
     },
     "execution_count": 27,
     "metadata": {},
     "output_type": "execute_result"
    }
   ],
   "source": [
    "d4={'$':30}    \n",
    "d4"
   ]
  },
  {
   "cell_type": "code",
   "execution_count": 36,
   "id": "74c39a15",
   "metadata": {},
   "outputs": [
    {
     "ename": "SyntaxError",
     "evalue": "invalid syntax (188152440.py, line 1)",
     "output_type": "error",
     "traceback": [
      "\u001b[1;36m  Cell \u001b[1;32mIn[36], line 1\u001b[1;36m\u001b[0m\n\u001b[1;33m    d4={'20':$} #fail\u001b[0m\n\u001b[1;37m             ^\u001b[0m\n\u001b[1;31mSyntaxError\u001b[0m\u001b[1;31m:\u001b[0m invalid syntax\n"
     ]
    }
   ],
   "source": [
    "d4={$:20} #fail\n",
    "d4\n",
    "\n",
    "# special charactr should not be key"
   ]
  },
  {
   "cell_type": "code",
   "execution_count": 29,
   "id": "fb411a91",
   "metadata": {},
   "outputs": [
    {
     "data": {
      "text/plain": [
       "{'names': ['r', 's', 'a']}"
      ]
     },
     "execution_count": 29,
     "metadata": {},
     "output_type": "execute_result"
    }
   ],
   "source": [
    "d5={'names':['r','s','a']}\n",
    "d5\n",
    "# list can be a value"
   ]
  },
  {
   "cell_type": "code",
   "execution_count": 34,
   "id": "8ac6c4e1",
   "metadata": {},
   "outputs": [
    {
     "ename": "TypeError",
     "evalue": "unhashable type: 'list'",
     "output_type": "error",
     "traceback": [
      "\u001b[1;31m---------------------------------------------------------------------------\u001b[0m",
      "\u001b[1;31mTypeError\u001b[0m                                 Traceback (most recent call last)",
      "Cell \u001b[1;32mIn[34], line 1\u001b[0m\n\u001b[1;32m----> 1\u001b[0m d6\u001b[38;5;241m=\u001b[39m{[\u001b[38;5;124m'\u001b[39m\u001b[38;5;124mr\u001b[39m\u001b[38;5;124m'\u001b[39m,\u001b[38;5;124m'\u001b[39m\u001b[38;5;124ms\u001b[39m\u001b[38;5;124m'\u001b[39m,\u001b[38;5;124m'\u001b[39m\u001b[38;5;124ma\u001b[39m\u001b[38;5;124m'\u001b[39m]:\u001b[38;5;124m'\u001b[39m\u001b[38;5;124mnames\u001b[39m\u001b[38;5;124m'\u001b[39m}\n\u001b[0;32m      2\u001b[0m d6\n",
      "\u001b[1;31mTypeError\u001b[0m: unhashable type: 'list'"
     ]
    }
   ],
   "source": [
    "d6={['r','s','a']:'names'}  \n",
    "d6                                      # list cannot be key"
   ]
  },
  {
   "cell_type": "code",
   "execution_count": 33,
   "id": "0cc62534",
   "metadata": {},
   "outputs": [
    {
     "data": {
      "text/plain": [
       "{('r', 's', 'a'): 'names'}"
      ]
     },
     "execution_count": 33,
     "metadata": {},
     "output_type": "execute_result"
    }
   ],
   "source": [
    "d7={('r','s','a'):'names'}\n",
    "d7"
   ]
  },
  {
   "cell_type": "code",
   "execution_count": 37,
   "id": "e2be9072",
   "metadata": {},
   "outputs": [
    {
     "data": {
      "text/plain": [
       "{'names': ('r', 's', 'a')}"
      ]
     },
     "execution_count": 37,
     "metadata": {},
     "output_type": "execute_result"
    }
   ],
   "source": [
    "d8={'names':('r','s','a')}\n",
    "d8"
   ]
  },
  {
   "cell_type": "code",
   "execution_count": 39,
   "id": "b883502f",
   "metadata": {},
   "outputs": [
    {
     "data": {
      "text/plain": [
       "{('i', 'n', 'd'): ('r', 's', 'a')}"
      ]
     },
     "execution_count": 39,
     "metadata": {},
     "output_type": "execute_result"
    }
   ],
   "source": [
    "d9={('i','n','d'):('r','s','a')}\n",
    "d9"
   ]
  },
  {
   "cell_type": "code",
   "execution_count": 46,
   "id": "01e1c8c0",
   "metadata": {},
   "outputs": [
    {
     "data": {
      "text/plain": [
       "{'ramesh': 25}"
      ]
     },
     "execution_count": 46,
     "metadata": {},
     "output_type": "execute_result"
    }
   ],
   "source": [
    "d2={'ramesh':20,'ramesh':25}\n",
    "d2\n",
    "# duplicate keys are not allowed"
   ]
  },
  {
   "cell_type": "code",
   "execution_count": 49,
   "id": "eabe3165",
   "metadata": {},
   "outputs": [
    {
     "data": {
      "text/plain": [
       "'ramesh'"
      ]
     },
     "execution_count": 49,
     "metadata": {},
     "output_type": "execute_result"
    }
   ],
   "source": [
    "d={'rames':20,'ramesh':20}\n",
    "max(d)"
   ]
  },
  {
   "cell_type": "code",
   "execution_count": null,
   "id": "f65b9f5e",
   "metadata": {},
   "outputs": [],
   "source": [
    "- max \n",
    "- min\n",
    "- len\n",
    "- sum"
   ]
  },
  {
   "cell_type": "code",
   "execution_count": 44,
   "id": "e3e8837a",
   "metadata": {},
   "outputs": [
    {
     "data": {
      "text/plain": [
       "'suresh'"
      ]
     },
     "execution_count": 44,
     "metadata": {},
     "output_type": "execute_result"
    }
   ],
   "source": [
    "d1={'ramesh': 20, 'suresh': 25, 'satesh': 30}\n",
    "max(d1)\n",
    "\n",
    "# we have to see the keys in this case\n"
   ]
  },
  {
   "cell_type": "code",
   "execution_count": 50,
   "id": "c972f78f",
   "metadata": {},
   "outputs": [
    {
     "data": {
      "text/plain": [
       "30"
      ]
     },
     "execution_count": 50,
     "metadata": {},
     "output_type": "execute_result"
    }
   ],
   "source": [
    "d2={20:'ramesh',25:'suresh',30:'satesh'}\n",
    "max(d2)"
   ]
  },
  {
   "cell_type": "code",
   "execution_count": 53,
   "id": "83ef21ef",
   "metadata": {},
   "outputs": [
    {
     "ename": "TypeError",
     "evalue": "'>' not supported between instances of 'str' and 'int'",
     "output_type": "error",
     "traceback": [
      "\u001b[1;31m---------------------------------------------------------------------------\u001b[0m",
      "\u001b[1;31mTypeError\u001b[0m                                 Traceback (most recent call last)",
      "Cell \u001b[1;32mIn[53], line 2\u001b[0m\n\u001b[0;32m      1\u001b[0m d2\u001b[38;5;241m=\u001b[39m{\u001b[38;5;241m30\u001b[39m:\u001b[38;5;124m'\u001b[39m\u001b[38;5;124mmohan\u001b[39m\u001b[38;5;124m'\u001b[39m,\u001b[38;5;124m'\u001b[39m\u001b[38;5;124mmani\u001b[39m\u001b[38;5;124m'\u001b[39m:\u001b[38;5;241m25\u001b[39m}\n\u001b[1;32m----> 2\u001b[0m \u001b[38;5;28mmax\u001b[39m(d2)\n",
      "\u001b[1;31mTypeError\u001b[0m: '>' not supported between instances of 'str' and 'int'"
     ]
    }
   ],
   "source": [
    "d2={30:'mohan','mani':25}\n",
    "max(d2)"
   ]
  },
  {
   "cell_type": "code",
   "execution_count": 56,
   "id": "afeadda9",
   "metadata": {},
   "outputs": [
    {
     "name": "stdout",
     "output_type": "stream",
     "text": [
      "30\n",
      "m\n"
     ]
    },
    {
     "ename": "TypeError",
     "evalue": "'>' not supported between instances of 'str' and 'int'",
     "output_type": "error",
     "traceback": [
      "\u001b[1;31m---------------------------------------------------------------------------\u001b[0m",
      "\u001b[1;31mTypeError\u001b[0m                                 Traceback (most recent call last)",
      "Cell \u001b[1;32mIn[56], line 3\u001b[0m\n\u001b[0;32m      1\u001b[0m \u001b[38;5;28mprint\u001b[39m(\u001b[38;5;28mmax\u001b[39m([\u001b[38;5;241m20\u001b[39m,\u001b[38;5;241m30\u001b[39m,\u001b[38;5;241m25\u001b[39m]))\n\u001b[0;32m      2\u001b[0m \u001b[38;5;28mprint\u001b[39m(\u001b[38;5;28mmax\u001b[39m([\u001b[38;5;124m'\u001b[39m\u001b[38;5;124mm\u001b[39m\u001b[38;5;124m'\u001b[39m,\u001b[38;5;124m'\u001b[39m\u001b[38;5;124mc\u001b[39m\u001b[38;5;124m'\u001b[39m,\u001b[38;5;124m'\u001b[39m\u001b[38;5;124ma\u001b[39m\u001b[38;5;124m'\u001b[39m]))\n\u001b[1;32m----> 3\u001b[0m \u001b[38;5;28mprint\u001b[39m(\u001b[38;5;28mmax\u001b[39m([\u001b[38;5;241m25\u001b[39m,\u001b[38;5;124m'\u001b[39m\u001b[38;5;124ma\u001b[39m\u001b[38;5;124m'\u001b[39m]))\n",
      "\u001b[1;31mTypeError\u001b[0m: '>' not supported between instances of 'str' and 'int'"
     ]
    }
   ],
   "source": [
    "print(max([20,30,25]))\n",
    "print(max(['m','c','a']))\n",
    "print(max([25,'a']))"
   ]
  },
  {
   "cell_type": "code",
   "execution_count": null,
   "id": "62bdc084",
   "metadata": {},
   "outputs": [],
   "source": [
    "d1={'ramesh': 20, 'suresh': 25, 'satesh': 30}\n",
    "print(min(d1))\n",
    "print(len(d1))\n",
    "print(sum(d1))"
   ]
  },
  {
   "cell_type": "code",
   "execution_count": 66,
   "id": "f6fa8c1a",
   "metadata": {},
   "outputs": [
    {
     "name": "stdout",
     "output_type": "stream",
     "text": [
      "20\n",
      "3\n",
      "75\n"
     ]
    }
   ],
   "source": [
    "d2={20:'ramesh',25:'suresh',30:'satesh'}\n",
    "print(min(d2))\n",
    "print(len(d2))\n",
    "print(sum(d2))\n"
   ]
  },
  {
   "cell_type": "code",
   "execution_count": 63,
   "id": "460d38ae",
   "metadata": {},
   "outputs": [
    {
     "data": {
      "text/plain": [
       "['ramesh', 'satesh', 'suresh']"
      ]
     },
     "execution_count": 63,
     "metadata": {},
     "output_type": "execute_result"
    }
   ],
   "source": [
    "sorted(d1)"
   ]
  },
  {
   "cell_type": "code",
   "execution_count": 65,
   "id": "f8880d65",
   "metadata": {},
   "outputs": [
    {
     "name": "stdout",
     "output_type": "stream",
     "text": [
      "satesh\n",
      "suresh\n",
      "ramesh\n"
     ]
    }
   ],
   "source": [
    "for i in reversed(d1):\n",
    "    print(i)"
   ]
  },
  {
   "cell_type": "code",
   "execution_count": 2,
   "id": "88946a36",
   "metadata": {},
   "outputs": [
    {
     "ename": "TypeError",
     "evalue": "'>' not supported between instances of 'str' and 'int'",
     "output_type": "error",
     "traceback": [
      "\u001b[1;31m---------------------------------------------------------------------------\u001b[0m",
      "\u001b[1;31mTypeError\u001b[0m                                 Traceback (most recent call last)",
      "Cell \u001b[1;32mIn[2], line 2\u001b[0m\n\u001b[0;32m      1\u001b[0m d2\u001b[38;5;241m=\u001b[39m{\u001b[38;5;241m20\u001b[39m:\u001b[38;5;124m'\u001b[39m\u001b[38;5;124mmani\u001b[39m\u001b[38;5;124m'\u001b[39m,\u001b[38;5;124m'\u001b[39m\u001b[38;5;124mmohan\u001b[39m\u001b[38;5;124m'\u001b[39m:\u001b[38;5;241m30\u001b[39m}\n\u001b[1;32m----> 2\u001b[0m \u001b[38;5;28mprint\u001b[39m(\u001b[38;5;28mmax\u001b[39m(d2))\n\u001b[0;32m      3\u001b[0m \u001b[38;5;28mprint\u001b[39m(\u001b[38;5;28mmin\u001b[39m(d2))\n\u001b[0;32m      4\u001b[0m \u001b[38;5;28mprint\u001b[39m(\u001b[38;5;28msum\u001b[39m(d2))\n",
      "\u001b[1;31mTypeError\u001b[0m: '>' not supported between instances of 'str' and 'int'"
     ]
    }
   ],
   "source": [
    "d2={20:'mani','mohan':30}\n",
    "print(max(d2))\n",
    "print(min(d2))\n",
    "print(sum(d2))\n",
    "print(len(d2))"
   ]
  },
  {
   "cell_type": "markdown",
   "id": "580061b6",
   "metadata": {},
   "source": [
    "$concatenation$"
   ]
  },
  {
   "cell_type": "code",
   "execution_count": 10,
   "id": "c7dd7716",
   "metadata": {},
   "outputs": [
    {
     "ename": "TypeError",
     "evalue": "unsupported operand type(s) for +: 'dict' and 'dict'",
     "output_type": "error",
     "traceback": [
      "\u001b[1;31m---------------------------------------------------------------------------\u001b[0m",
      "\u001b[1;31mTypeError\u001b[0m                                 Traceback (most recent call last)",
      "Cell \u001b[1;32mIn[10], line 3\u001b[0m\n\u001b[0;32m      1\u001b[0m d1\u001b[38;5;241m=\u001b[39m{\u001b[38;5;124m'\u001b[39m\u001b[38;5;124mramesh\u001b[39m\u001b[38;5;124m'\u001b[39m:\u001b[38;5;241m20\u001b[39m}\n\u001b[0;32m      2\u001b[0m d2\u001b[38;5;241m=\u001b[39m{\u001b[38;5;124m'\u001b[39m\u001b[38;5;124msuresh\u001b[39m\u001b[38;5;124m'\u001b[39m:\u001b[38;5;241m25\u001b[39m}\n\u001b[1;32m----> 3\u001b[0m \u001b[38;5;28mprint\u001b[39m(d1\u001b[38;5;241m+\u001b[39md2)\n\u001b[0;32m      4\u001b[0m \u001b[38;5;28mprint\u001b[39m(d1\u001b[38;5;241m*\u001b[39md2)\n",
      "\u001b[1;31mTypeError\u001b[0m: unsupported operand type(s) for +: 'dict' and 'dict'"
     ]
    }
   ],
   "source": [
    "d1={'ramesh':20}\n",
    "d2={'suresh':25}\n",
    "print(d1+d2)\n",
    "print(d1*d2)    # it is not possible in this case"
   ]
  },
  {
   "cell_type": "markdown",
   "id": "58e1567b",
   "metadata": {},
   "source": [
    "$in$"
   ]
  },
  {
   "cell_type": "code",
   "execution_count": 11,
   "id": "0a7f2804",
   "metadata": {},
   "outputs": [
    {
     "name": "stdout",
     "output_type": "stream",
     "text": [
      "True\n",
      "False\n"
     ]
    }
   ],
   "source": [
    "d1={'ramesh': 20, 'suresh': 25, 'satesh': 30}\n",
    "#keys are important\n",
    "print('ramesh'in d1)\n",
    "print(20 in d1)"
   ]
  },
  {
   "cell_type": "code",
   "execution_count": 12,
   "id": "fdfb5d5c",
   "metadata": {},
   "outputs": [
    {
     "name": "stdout",
     "output_type": "stream",
     "text": [
      "ramesh\n",
      "suresh\n",
      "satesh\n"
     ]
    }
   ],
   "source": [
    "for i in d1:\n",
    "    print(i)"
   ]
  },
  {
   "cell_type": "markdown",
   "id": "6dba585c",
   "metadata": {},
   "source": [
    "$indexing$"
   ]
  },
  {
   "cell_type": "code",
   "execution_count": 18,
   "id": "911c83bd",
   "metadata": {},
   "outputs": [
    {
     "name": "stdout",
     "output_type": "stream",
     "text": [
      "ramesh 20\n",
      "suresh 25\n",
      "satesh 30\n"
     ]
    }
   ],
   "source": [
    "d1={'ramesh': 20, 'suresh': 25, 'satesh': 30}\n",
    "#d1[0]  error \n",
    "#normal index will not works for dictionary \n",
    "\n",
    "#if u want retrive the value ,by using keys we can get \n",
    "d1['ramesh']\n",
    "d1['suresh']\n",
    "d1['satesh']\n",
    "\n",
    "for i in d1:\n",
    "    print(i,d1[i])\n"
   ]
  },
  {
   "cell_type": "code",
   "execution_count": 19,
   "id": "397a98aa",
   "metadata": {},
   "outputs": [
    {
     "name": "stdout",
     "output_type": "stream",
     "text": [
      "ramesh age is 20\n",
      "suresh age is 25\n",
      "satesh age is 30\n"
     ]
    }
   ],
   "source": [
    "names=['ramesh','suresh','satesh']\n",
    "age=[20,25,30]\n",
    "\n",
    "for i,j in zip(names,age):\n",
    "    print(f'{i} age is {j}')"
   ]
  },
  {
   "cell_type": "code",
   "execution_count": 22,
   "id": "39222104",
   "metadata": {},
   "outputs": [
    {
     "name": "stdout",
     "output_type": "stream",
     "text": [
      "rameshage is 20\n",
      "sureshage is 25\n",
      "sateshage is 30\n"
     ]
    }
   ],
   "source": [
    "d1={'ramesh': 20, 'suresh': 25, 'satesh': 30}\n",
    "for i in d1:\n",
    "    print(f'{i}age is {d1[i]}')"
   ]
  },
  {
   "cell_type": "code",
   "execution_count": 23,
   "id": "f75e2337",
   "metadata": {},
   "outputs": [
    {
     "name": "stdout",
     "output_type": "stream",
     "text": [
      "ramesh\n",
      "suresh\n",
      "satesh\n",
      "ramesh 20\n",
      "suresh 25\n",
      "satesh 30\n"
     ]
    }
   ],
   "source": [
    "d1={'ramesh': 20, 'suresh': 25, 'satesh': 30}\n",
    "for i in d1:\n",
    "    print(i)  #it will give only keys\n",
    "for i in d1:\n",
    "    print(i,d1[i]) #it will gives keys and values"
   ]
  },
  {
   "cell_type": "code",
   "execution_count": 36,
   "id": "3b76d946",
   "metadata": {},
   "outputs": [
    {
     "data": {
      "text/plain": [
       "'abc'"
      ]
     },
     "execution_count": 36,
     "metadata": {},
     "output_type": "execute_result"
    }
   ],
   "source": [
    "d1,l1,s1={},[],''\n",
    "s1='a'\n",
    "s1=s1+'b'\n",
    "s1=s1+'c'\n",
    "s1"
   ]
  },
  {
   "cell_type": "code",
   "execution_count": 31,
   "id": "388703b2",
   "metadata": {},
   "outputs": [
    {
     "data": {
      "text/plain": [
       "[10, 20]"
      ]
     },
     "execution_count": 31,
     "metadata": {},
     "output_type": "execute_result"
    }
   ],
   "source": [
    "l1=[]\n",
    "l1.append(10)\n",
    "l1.append(20)"
   ]
  },
  {
   "cell_type": "code",
   "execution_count": 40,
   "id": "4ee48192",
   "metadata": {},
   "outputs": [
    {
     "data": {
      "text/plain": [
       "{'EVEN': [20, 30, 60], 'ODD': [21, 31, 61]}"
      ]
     },
     "execution_count": 40,
     "metadata": {},
     "output_type": "execute_result"
    }
   ],
   "source": [
    "d1={}\n",
    "d1['EVEN']=[20,30,60]\n",
    "d1['ODD']=[21,31,61]\n",
    "d1"
   ]
  },
  {
   "cell_type": "code",
   "execution_count": 41,
   "id": "fb108e18",
   "metadata": {},
   "outputs": [
    {
     "name": "stdout",
     "output_type": "stream",
     "text": [
      "enter the name:mani\n",
      "enter the city:bvrm\n",
      "enter the age:20\n"
     ]
    }
   ],
   "source": [
    "d1={}\n",
    "name=input('enter the name:')\n",
    "city=input('enter the city:')\n",
    "age=eval(input('enter the age:'))\n",
    "d1['NAME']=name\n",
    "d1['CITY']=city\n",
    "d1['AGE']=age\n"
   ]
  },
  {
   "cell_type": "code",
   "execution_count": null,
   "id": "d3f47295",
   "metadata": {},
   "outputs": [],
   "source": [
    "#wap ask the user genereate 10 random numbers \n",
    "#find the even number and odd number\n",
    "#"
   ]
  },
  {
   "cell_type": "code",
   "execution_count": 52,
   "id": "471ee078",
   "metadata": {},
   "outputs": [
    {
     "data": {
      "text/plain": [
       "{'even': [26, 42, 38, 44, 14, 94], 'odd': [99, 75, 73, 93]}"
      ]
     },
     "execution_count": 52,
     "metadata": {},
     "output_type": "execute_result"
    }
   ],
   "source": [
    "import random\n",
    "e_l=[]\n",
    "o_l=[]\n",
    "d1={}\n",
    "for i in range(10):\n",
    "    num=random.randint(10,100)\n",
    "    if num%2==0:\n",
    "        e_l.append(num)\n",
    "    else:\n",
    "        o_l.append(num)\n",
    "d1['even']=e_l\n",
    "d1['odd']=o_l\n",
    "d1"
   ]
  },
  {
   "cell_type": "code",
   "execution_count": 83,
   "id": "97365598",
   "metadata": {},
   "outputs": [
    {
     "data": {
      "text/plain": [
       "{'hello': 1,\n",
       " 'how': 4,\n",
       " 'are': 2,\n",
       " 'you,hello': 1,\n",
       " 'im': 1,\n",
       " 'good': 1,\n",
       " ',hello': 1,\n",
       " 'what': 1,\n",
       " 'you': 1,\n",
       " 'doing': 1}"
      ]
     },
     "execution_count": 83,
     "metadata": {},
     "output_type": "execute_result"
    }
   ],
   "source": [
    "s1='hello how  how are you,hello how im good ,hello how what are you doing'\n",
    "\n",
    "#o\\p={'hello':3,'how':=4}\n",
    "l1=s1.split()   # list of words\n",
    "l2=[]\n",
    "d1={}\n",
    "for i in l1:      #iteratir through list\n",
    "    if i not in l2:\n",
    "        d1[i]=l1.count(i)  #key=i values l1.count(i)\n",
    "        l2.append(i)\n",
    "d1"
   ]
  },
  {
   "cell_type": "code",
   "execution_count": 85,
   "id": "6c1ac131",
   "metadata": {},
   "outputs": [
    {
     "data": {
      "text/plain": [
       "'banana'"
      ]
     },
     "execution_count": 85,
     "metadata": {},
     "output_type": "execute_result"
    }
   ],
   "source": [
    "d1={'fruites':['apple','banana']}\n",
    "d1['fruites'][1]"
   ]
  },
  {
   "cell_type": "code",
   "execution_count": 91,
   "id": "c628e8f3",
   "metadata": {},
   "outputs": [
    {
     "data": {
      "text/plain": [
       "20"
      ]
     },
     "execution_count": 91,
     "metadata": {},
     "output_type": "execute_result"
    }
   ],
   "source": [
    "d1={'fruites':[{'apple':50},{'banana':20}]}\n",
    "d1['fruites'][1]['banana']"
   ]
  },
  {
   "cell_type": "code",
   "execution_count": 98,
   "id": "8c4583c3",
   "metadata": {},
   "outputs": [
    {
     "data": {
      "text/plain": [
       "300"
      ]
     },
     "execution_count": 98,
     "metadata": {},
     "output_type": "execute_result"
    }
   ],
   "source": [
    "d1={'fruites':[{'apple':[50,150,300]},{'banana':20}]}\n",
    "d1['fruites'][0]['apple'][2]\n"
   ]
  },
  {
   "cell_type": "code",
   "execution_count": 103,
   "id": "7e391828",
   "metadata": {},
   "outputs": [
    {
     "data": {
      "text/plain": [
       "'average'"
      ]
     },
     "execution_count": 103,
     "metadata": {},
     "output_type": "execute_result"
    }
   ],
   "source": [
    "d1={'fruites':\n",
    "    [{'apple':[{50:'normal',\n",
    "                150:'average',\n",
    "                300:'good'}]},\n",
    "     {'banana':20}]}\n",
    "d1['fruites'][0]['apple'][0][150]"
   ]
  },
  {
   "cell_type": "code",
   "execution_count": null,
   "id": "f3789f10",
   "metadata": {},
   "outputs": [],
   "source": [
    "d1={'fruites':\n",
    "   [{'apple'}]}"
   ]
  },
  {
   "cell_type": "markdown",
   "id": "b953ed78",
   "metadata": {},
   "source": [
    "$methods$"
   ]
  },
  {
   "cell_type": "code",
   "execution_count": 104,
   "id": "fd5b7860",
   "metadata": {},
   "outputs": [
    {
     "data": {
      "text/plain": [
       "['__class__',\n",
       " '__class_getitem__',\n",
       " '__contains__',\n",
       " '__delattr__',\n",
       " '__delitem__',\n",
       " '__dir__',\n",
       " '__doc__',\n",
       " '__eq__',\n",
       " '__format__',\n",
       " '__ge__',\n",
       " '__getattribute__',\n",
       " '__getitem__',\n",
       " '__getstate__',\n",
       " '__gt__',\n",
       " '__hash__',\n",
       " '__init__',\n",
       " '__init_subclass__',\n",
       " '__ior__',\n",
       " '__iter__',\n",
       " '__le__',\n",
       " '__len__',\n",
       " '__lt__',\n",
       " '__ne__',\n",
       " '__new__',\n",
       " '__or__',\n",
       " '__reduce__',\n",
       " '__reduce_ex__',\n",
       " '__repr__',\n",
       " '__reversed__',\n",
       " '__ror__',\n",
       " '__setattr__',\n",
       " '__setitem__',\n",
       " '__sizeof__',\n",
       " '__str__',\n",
       " '__subclasshook__',\n",
       " 'clear',\n",
       " 'copy',\n",
       " 'fromkeys',\n",
       " 'get',\n",
       " 'items',\n",
       " 'keys',\n",
       " 'pop',\n",
       " 'popitem',\n",
       " 'setdefault',\n",
       " 'update',\n",
       " 'values']"
      ]
     },
     "execution_count": 104,
     "metadata": {},
     "output_type": "execute_result"
    }
   ],
   "source": [
    "dir({})"
   ]
  },
  {
   "cell_type": "code",
   "execution_count": null,
   "id": "36f94ac4",
   "metadata": {},
   "outputs": [],
   "source": [
    " 'clear',\n",
    " 'copy',\n",
    " 'fromkeys',\n",
    " 'get',\n",
    " 'items',\n",
    " 'keys',\n",
    " 'pop',\n",
    " 'popitem',\n",
    " 'setdefault',\n",
    " 'update',\n",
    " 'values'"
   ]
  },
  {
   "cell_type": "markdown",
   "id": "9eb40adc",
   "metadata": {},
   "source": [
    "$keys-values-item$"
   ]
  },
  {
   "cell_type": "code",
   "execution_count": 109,
   "id": "7fdc011b",
   "metadata": {},
   "outputs": [
    {
     "name": "stdout",
     "output_type": "stream",
     "text": [
      "dict_keys(['ramesh', 'suresh', 'mani'])\n",
      "dict_values([20, 25, 27])\n",
      "dict_items([('ramesh', 20), ('suresh', 25), ('mani', 27)])\n"
     ]
    }
   ],
   "source": [
    "d1={'ramesh':20,'suresh':25,'mani':27}\n",
    "print(d1.keys())\n",
    "print(d1.values())\n",
    "print(d1.items())"
   ]
  },
  {
   "cell_type": "code",
   "execution_count": 112,
   "id": "b93edff3",
   "metadata": {},
   "outputs": [
    {
     "data": {
      "text/plain": [
       "dict_keys"
      ]
     },
     "execution_count": 112,
     "metadata": {},
     "output_type": "execute_result"
    }
   ],
   "source": [
    "d1.keys() # to check the type of output\n",
    "type(d1.keys())  \n",
    "#so conver the dict_keys type to list type"
   ]
  },
  {
   "cell_type": "code",
   "execution_count": 115,
   "id": "7b3b6bd1",
   "metadata": {},
   "outputs": [
    {
     "data": {
      "text/plain": [
       "'RAMESH'"
      ]
     },
     "execution_count": 115,
     "metadata": {},
     "output_type": "execute_result"
    }
   ],
   "source": [
    "list(d1.keys())[0].upper()"
   ]
  },
  {
   "cell_type": "markdown",
   "id": "d330e957",
   "metadata": {},
   "source": [
    "$clear-copy-get-pop-popitem$"
   ]
  },
  {
   "cell_type": "code",
   "execution_count": 127,
   "id": "b415e7ce",
   "metadata": {},
   "outputs": [
    {
     "name": "stdout",
     "output_type": "stream",
     "text": [
      "None\n"
     ]
    },
    {
     "data": {
      "text/plain": [
       "{}"
      ]
     },
     "execution_count": 127,
     "metadata": {},
     "output_type": "execute_result"
    }
   ],
   "source": [
    "d1={'ramesh':20,'suresh':25,'mani':27}\n",
    "print(d1.clear())\n",
    "d1"
   ]
  },
  {
   "cell_type": "code",
   "execution_count": 203,
   "id": "77ae4e64",
   "metadata": {},
   "outputs": [
    {
     "data": {
      "text/plain": [
       "{'ramesh': 20, 'suresh': 25, 'mani': 27}"
      ]
     },
     "execution_count": 203,
     "metadata": {},
     "output_type": "execute_result"
    }
   ],
   "source": [
    "d1={'ramesh':20,'suresh':25,'mani':27}\n",
    "d2=d1.copy()\n",
    "d2"
   ]
  },
  {
   "cell_type": "code",
   "execution_count": 197,
   "id": "529995f2",
   "metadata": {},
   "outputs": [
    {
     "data": {
      "text/plain": [
       "20"
      ]
     },
     "execution_count": 197,
     "metadata": {},
     "output_type": "execute_result"
    }
   ],
   "source": [
    "d1={'ramesh':20,'suresh':25,'mani':27}\n",
    "d1.get('ramesh')"
   ]
  },
  {
   "cell_type": "code",
   "execution_count": 198,
   "id": "d2f83f80",
   "metadata": {},
   "outputs": [
    {
     "data": {
      "text/plain": [
       "27"
      ]
     },
     "execution_count": 198,
     "metadata": {},
     "output_type": "execute_result"
    }
   ],
   "source": [
    "d=d1.pop('mani')\n",
    "d"
   ]
  },
  {
   "cell_type": "code",
   "execution_count": 204,
   "id": "5040f06e",
   "metadata": {},
   "outputs": [
    {
     "data": {
      "text/plain": [
       "{'ramesh': 20, 'suresh': 25}"
      ]
     },
     "execution_count": 204,
     "metadata": {},
     "output_type": "execute_result"
    }
   ],
   "source": [
    "d2.popitem()\n",
    "d2"
   ]
  },
  {
   "cell_type": "code",
   "execution_count": 200,
   "id": "a7d318d5",
   "metadata": {},
   "outputs": [
    {
     "data": {
      "text/plain": [
       "20"
      ]
     },
     "execution_count": 200,
     "metadata": {},
     "output_type": "execute_result"
    }
   ],
   "source": [
    "d1['ramesh']  #by reference as a key you can get the value"
   ]
  },
  {
   "cell_type": "markdown",
   "id": "a4ca5f4d",
   "metadata": {},
   "source": [
    "$update$"
   ]
  },
  {
   "cell_type": "code",
   "execution_count": 206,
   "id": "17a8fa1a",
   "metadata": {},
   "outputs": [
    {
     "data": {
      "text/plain": [
       "{'ramesh': 20, 'suresh': 25}"
      ]
     },
     "execution_count": 206,
     "metadata": {},
     "output_type": "execute_result"
    }
   ],
   "source": [
    "d1={'ramesh':20}\n",
    "d2={'suresh':25}\n",
    "d1.update(d2)\n",
    "d1"
   ]
  },
  {
   "cell_type": "code",
   "execution_count": 207,
   "id": "c7bf05c3",
   "metadata": {},
   "outputs": [
    {
     "data": {
      "text/plain": [
       "{'suresh': 25, 'ramesh': 20}"
      ]
     },
     "execution_count": 207,
     "metadata": {},
     "output_type": "execute_result"
    }
   ],
   "source": [
    "d1={'ramesh':20}\n",
    "d2={'suresh':25}\n",
    "d2.update(d1)\n",
    "d2"
   ]
  },
  {
   "cell_type": "code",
   "execution_count": null,
   "id": "874d1cc1",
   "metadata": {},
   "outputs": [],
   "source": []
  },
  {
   "cell_type": "code",
   "execution_count": null,
   "id": "86a6143a",
   "metadata": {},
   "outputs": [],
   "source": []
  },
  {
   "cell_type": "code",
   "execution_count": null,
   "id": "267be41d",
   "metadata": {},
   "outputs": [],
   "source": []
  },
  {
   "cell_type": "code",
   "execution_count": null,
   "id": "0a051e73",
   "metadata": {},
   "outputs": [],
   "source": []
  },
  {
   "cell_type": "code",
   "execution_count": null,
   "id": "33158ac2",
   "metadata": {},
   "outputs": [],
   "source": []
  },
  {
   "cell_type": "code",
   "execution_count": null,
   "id": "6a52d5c0",
   "metadata": {},
   "outputs": [],
   "source": []
  },
  {
   "cell_type": "code",
   "execution_count": null,
   "id": "af9da813",
   "metadata": {},
   "outputs": [],
   "source": []
  },
  {
   "cell_type": "code",
   "execution_count": null,
   "id": "cf9aa6eb",
   "metadata": {},
   "outputs": [],
   "source": []
  },
  {
   "cell_type": "code",
   "execution_count": null,
   "id": "570afe0f",
   "metadata": {},
   "outputs": [],
   "source": []
  },
  {
   "cell_type": "code",
   "execution_count": null,
   "id": "39cab933",
   "metadata": {},
   "outputs": [],
   "source": []
  },
  {
   "cell_type": "code",
   "execution_count": null,
   "id": "ab4ed062",
   "metadata": {},
   "outputs": [],
   "source": []
  },
  {
   "cell_type": "code",
   "execution_count": null,
   "id": "46357d61",
   "metadata": {},
   "outputs": [],
   "source": []
  }
 ],
 "metadata": {
  "kernelspec": {
   "display_name": "Python 3 (ipykernel)",
   "language": "python",
   "name": "python3"
  },
  "language_info": {
   "codemirror_mode": {
    "name": "ipython",
    "version": 3
   },
   "file_extension": ".py",
   "mimetype": "text/x-python",
   "name": "python",
   "nbconvert_exporter": "python",
   "pygments_lexer": "ipython3",
   "version": "3.11.5"
  }
 },
 "nbformat": 4,
 "nbformat_minor": 5
}
