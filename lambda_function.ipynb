{
 "cells": [
  {
   "cell_type": "code",
   "execution_count": null,
   "id": "f2346cf4",
   "metadata": {},
   "outputs": [],
   "source": [
    "- lambda function is a lso akind of function represntation\n",
    "- more efficient way\n"
   ]
  },
  {
   "cell_type": "code",
   "execution_count": 3,
   "id": "d69c5a17",
   "metadata": {},
   "outputs": [
    {
     "data": {
      "text/plain": [
       "20"
      ]
     },
     "execution_count": 3,
     "metadata": {},
     "output_type": "execute_result"
    }
   ],
   "source": [
    "def summ(num):\n",
    "    return(num+10)\n",
    "summ(10)\n",
    "\n",
    "#the function name is sum\n",
    "#the variable name is num\n",
    "#the return output is num+10"
   ]
  },
  {
   "cell_type": "code",
   "execution_count": null,
   "id": "de375f7d",
   "metadata": {},
   "outputs": [],
   "source": [
    "function_name=lambda <variable_name>:<return_output>"
   ]
  },
  {
   "cell_type": "code",
   "execution_count": 9,
   "id": "2f0d86ab",
   "metadata": {},
   "outputs": [
    {
     "data": {
      "text/plain": [
       "30"
      ]
     },
     "execution_count": 9,
     "metadata": {},
     "output_type": "execute_result"
    }
   ],
   "source": [
    "summ=lambda num:num+10\n",
    "summ(20)"
   ]
  },
  {
   "cell_type": "code",
   "execution_count": 11,
   "id": "f8a3fde0",
   "metadata": {},
   "outputs": [
    {
     "data": {
      "text/plain": [
       "1000"
      ]
     },
     "execution_count": 11,
     "metadata": {},
     "output_type": "execute_result"
    }
   ],
   "source": [
    "def cube(num):\n",
    "    return(num*num*num)\n",
    "cube(10)"
   ]
  },
  {
   "cell_type": "code",
   "execution_count": 13,
   "id": "272d06d7",
   "metadata": {},
   "outputs": [
    {
     "data": {
      "text/plain": [
       "1000"
      ]
     },
     "execution_count": 13,
     "metadata": {},
     "output_type": "execute_result"
    }
   ],
   "source": [
    "cube=lambda num:num*num*num\n",
    "cube(10)"
   ]
  },
  {
   "cell_type": "markdown",
   "id": "14a685bb",
   "metadata": {},
   "source": [
    "**Two argument**"
   ]
  },
  {
   "cell_type": "code",
   "execution_count": 15,
   "id": "0f3949c7",
   "metadata": {},
   "outputs": [
    {
     "data": {
      "text/plain": [
       "50"
      ]
     },
     "execution_count": 15,
     "metadata": {},
     "output_type": "execute_result"
    }
   ],
   "source": [
    "def add(n1,n2):\n",
    "    return(n1+n2)\n",
    "add(20,30)"
   ]
  },
  {
   "cell_type": "code",
   "execution_count": 28,
   "id": "e3d05385",
   "metadata": {},
   "outputs": [
    {
     "data": {
      "text/plain": [
       "30.0"
      ]
     },
     "execution_count": 28,
     "metadata": {},
     "output_type": "execute_result"
    }
   ],
   "source": [
    "def avg(n1,n2,n3=40):\n",
    "    return((n1+n2+n3)/3)\n",
    "avg(20,30)"
   ]
  },
  {
   "cell_type": "code",
   "execution_count": 21,
   "id": "61917c42",
   "metadata": {},
   "outputs": [
    {
     "data": {
      "text/plain": [
       "300"
      ]
     },
     "execution_count": 21,
     "metadata": {},
     "output_type": "execute_result"
    }
   ],
   "source": [
    "add=lambda n1,n2:n1+n2\n",
    "add(100,200)"
   ]
  },
  {
   "cell_type": "code",
   "execution_count": 32,
   "id": "f1af93d5",
   "metadata": {},
   "outputs": [
    {
     "data": {
      "text/plain": [
       "30.0"
      ]
     },
     "execution_count": 32,
     "metadata": {},
     "output_type": "execute_result"
    }
   ],
   "source": [
    "avg=lambda n1,n2,n3=40:(n1+n2+n3)/3\n",
    "avg(20,30)"
   ]
  },
  {
   "cell_type": "markdown",
   "id": "a18af2b7",
   "metadata": {},
   "source": [
    "**If-Else**"
   ]
  },
  {
   "cell_type": "code",
   "execution_count": 33,
   "id": "099e8966",
   "metadata": {},
   "outputs": [
    {
     "data": {
      "text/plain": [
       "200"
      ]
     },
     "execution_count": 33,
     "metadata": {},
     "output_type": "execute_result"
    }
   ],
   "source": [
    "def max(n1,n2):\n",
    "    if n1>n2:\n",
    "        return(n1)\n",
    "    else:\n",
    "        return(n2)\n",
    "max(100,200)"
   ]
  },
  {
   "cell_type": "code",
   "execution_count": null,
   "id": "89db806d",
   "metadata": {},
   "outputs": [],
   "source": [
    "# lambda <arg1><arg2>:<if_output> <if_condition><else_op>"
   ]
  },
  {
   "cell_type": "code",
   "execution_count": 39,
   "id": "e63bcbd6",
   "metadata": {},
   "outputs": [
    {
     "data": {
      "text/plain": [
       "30"
      ]
     },
     "execution_count": 39,
     "metadata": {},
     "output_type": "execute_result"
    }
   ],
   "source": [
    "max=lambda n1,n2:n1 if n1>n2 else n2\n",
    "max(20,30)"
   ]
  },
  {
   "cell_type": "code",
   "execution_count": 3,
   "id": "950ee21c",
   "metadata": {},
   "outputs": [
    {
     "data": {
      "text/plain": [
       "['Hyd', 'Mumbai', 'Chennai']"
      ]
     },
     "execution_count": 3,
     "metadata": {},
     "output_type": "execute_result"
    }
   ],
   "source": [
    "l1=['hyd','mumbai','chennai']\n",
    "l1=['HYD','MUMBAI','CHENNAI']\n",
    "#################################\n",
    "l2=[]\n",
    "for i in l1:\n",
    "    l2.append(i.capitalize())\n",
    "###################################    \n",
    "l2=[i.capitalize() for i in l1]\n",
    "l2"
   ]
  },
  {
   "cell_type": "code",
   "execution_count": 4,
   "id": "7dd1bf64",
   "metadata": {},
   "outputs": [
    {
     "data": {
      "text/plain": [
       "(<function __main__.<lambda>(i)>, ['HYD', 'MUMBAI', 'CHENNAI'])"
      ]
     },
     "execution_count": 4,
     "metadata": {},
     "output_type": "execute_result"
    }
   ],
   "source": [
    "lambda i:i.capitalize(),l1"
   ]
  },
  {
   "cell_type": "markdown",
   "id": "61e21183",
   "metadata": {},
   "source": [
    "$Map$"
   ]
  },
  {
   "cell_type": "code",
   "execution_count": 5,
   "id": "a0c32bdd",
   "metadata": {},
   "outputs": [
    {
     "data": {
      "text/plain": [
       "['Hyd', 'Mumbai', 'Chennai']"
      ]
     },
     "execution_count": 5,
     "metadata": {},
     "output_type": "execute_result"
    }
   ],
   "source": [
    "list(map(lambda i:i.capitalize(),l1))          "
   ]
  },
  {
   "cell_type": "code",
   "execution_count": 6,
   "id": "b39a1149",
   "metadata": {},
   "outputs": [
    {
     "data": {
      "text/plain": [
       "[1, 4, 9, 16]"
      ]
     },
     "execution_count": 6,
     "metadata": {},
     "output_type": "execute_result"
    }
   ],
   "source": [
    "l1=[1,2,3,4]\n",
    "#l2=[1,4,9,16]\n",
    "list(map(lambda i:i*i,l1))"
   ]
  },
  {
   "cell_type": "code",
   "execution_count": 7,
   "id": "5615e58b",
   "metadata": {},
   "outputs": [
    {
     "data": {
      "text/plain": [
       "['h#d', 'mum#bai', 'chen#nai']"
      ]
     },
     "execution_count": 7,
     "metadata": {},
     "output_type": "execute_result"
    }
   ],
   "source": [
    "l1=['h#d','mum#bai','chen#nai','blr','pune']\n",
    "l2=[]\n",
    "for i in l1:\n",
    "    if '#' in i:\n",
    "        l2.append(i)\n",
    "        \n",
    "l2"
   ]
  },
  {
   "cell_type": "code",
   "execution_count": 8,
   "id": "5f736fc0",
   "metadata": {},
   "outputs": [
    {
     "data": {
      "text/plain": [
       "[True, True, True, False, False]"
      ]
     },
     "execution_count": 8,
     "metadata": {},
     "output_type": "execute_result"
    }
   ],
   "source": [
    "list(map(lambda i:'#' in i,l1))"
   ]
  },
  {
   "cell_type": "markdown",
   "id": "722c6926",
   "metadata": {},
   "source": [
    "$filter$"
   ]
  },
  {
   "cell_type": "code",
   "execution_count": 9,
   "id": "fe69aba3",
   "metadata": {},
   "outputs": [
    {
     "data": {
      "text/plain": [
       "['h#d', 'mum#bai', 'chen#nai']"
      ]
     },
     "execution_count": 9,
     "metadata": {},
     "output_type": "execute_result"
    }
   ],
   "source": [
    "list(filter(lambda i:'#' in i,l1))"
   ]
  },
  {
   "cell_type": "code",
   "execution_count": null,
   "id": "1b85a53d",
   "metadata": {},
   "outputs": [],
   "source": []
  },
  {
   "cell_type": "code",
   "execution_count": null,
   "id": "23875889",
   "metadata": {},
   "outputs": [],
   "source": []
  },
  {
   "cell_type": "code",
   "execution_count": null,
   "id": "6937281a",
   "metadata": {},
   "outputs": [],
   "source": [
    " "
   ]
  }
 ],
 "metadata": {
  "kernelspec": {
   "display_name": "Python 3 (ipykernel)",
   "language": "python",
   "name": "python3"
  },
  "language_info": {
   "codemirror_mode": {
    "name": "ipython",
    "version": 3
   },
   "file_extension": ".py",
   "mimetype": "text/x-python",
   "name": "python",
   "nbconvert_exporter": "python",
   "pygments_lexer": "ipython3",
   "version": "3.11.5"
  }
 },
 "nbformat": 4,
 "nbformat_minor": 5
}
