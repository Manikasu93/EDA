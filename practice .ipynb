{
 "cells": [
  {
   "cell_type": "code",
   "execution_count": 5,
   "id": "f1a9cbe2",
   "metadata": {},
   "outputs": [
    {
     "name": "stdout",
     "output_type": "stream",
     "text": [
      "hello\n",
      "10\n",
      "enter a number1:50\n",
      "enter a number2:50\n",
      "This is True case\n",
      "We are doing addition operation\n",
      "The addition of 50 and 50 is: 100\n",
      "Happy ending!\n",
      "subtraction: 0\n",
      "greate!\n"
     ]
    }
   ],
   "source": [
    "print('hello')\n",
    "print(10)\n",
    "num1=eval(input(\"enter a number1:\"))\n",
    "num2=eval(input(\"enter a number2:\"))\n",
    "if num1==num2:\n",
    "    print(\"This is True case\")\n",
    "    print(\"We are doing addition operation\")\n",
    "    print(\"The addition of {} and {} is: {}\".format(num1,num2,num1+num2))\n",
    "    print(\"Happy ending!\")\n",
    "else:\n",
    "    print(\"This is False case\")\n",
    "    print(\"We are doing multiplication\")\n",
    "    print(\"The multiplication of {} and {} is: {}\".format(num1,num2,num1*num2))\n",
    "subtraction=num1-num2\n",
    "print('subtraction:',subtraction)\n",
    "print('greate!')"
   ]
  },
  {
   "cell_type": "code",
   "execution_count": 5,
   "id": "cf70e2b6",
   "metadata": {},
   "outputs": [
    {
     "ename": "SyntaxError",
     "evalue": "invalid syntax (1468103497.py, line 7)",
     "output_type": "error",
     "traceback": [
      "\u001b[1;36m  Cell \u001b[1;32mIn[5], line 7\u001b[1;36m\u001b[0m\n\u001b[1;33m    elif op==\"multiplication\":\u001b[0m\n\u001b[1;37m    ^\u001b[0m\n\u001b[1;31mSyntaxError\u001b[0m\u001b[1;31m:\u001b[0m invalid syntax\n"
     ]
    }
   ],
   "source": [
    "\n",
    "no1=eval(input(\"enter 1st number: \"))\n",
    "no2=eval(input(\"enter 2nd number: \"))\n",
    "if op==\"addition\":\n",
    "    print(\"we're performing addition\")\n",
    "    print(\"the addition of {} and {} is:\".format(no1,no2,(no1+no2))\n",
    "elif op==\"multiplication\":\n",
    "               print(\"we're performing multiplication\")\n",
    "               print(\"the multiplication of {} and {} is:\".format(no1,no2,(no1*no2))\n",
    "elif op==\"subtraction\":\n",
    "                     print(\"we're performing subtraction\")\n",
    "                     print(\"the subtraction of {} and {} is:\".format(no1,no2,(no1-no2))\n",
    "elif op==\"division\":\n",
    "    \n",
    "    print(\"we're performing division\")\n",
    "    print(\"the division of {} and {} is:\".format(no1,no2,(no1/no2))         \n",
    "else:\n",
    "    print(\"provide suitable operation\")"
   ]
  },
  {
   "cell_type": "code",
   "execution_count": null,
   "id": "1e00c65f",
   "metadata": {},
   "outputs": [],
   "source": [
    "op=input(\"Which operation you want perform :\")\n",
    "no1=eval(input(\"enter 1st number: \"))\n",
    "no2=eval(input(\"enter 2nd number: \"))\n",
    "if op=='addition':\n",
    "    print('we are doing addition')\n",
    "    print(f\"the addition {no1}and {no2} is {no1+no2}\")\n",
    "elif op=='subtraction':\n",
    "    print('we are doing subtraction')\n",
    "    print(f\"the subtraction {no1} and {no2} is {no1-no2}\")\n",
    "elif op=='multiplication':\n",
    "    print('we are doing multiplication')\n",
    "    print(f\" the multiplication {no1} and {no2} is {no1*no2}\")\n",
    "elif op=='':\n",
    "    print('we are doing division')\n",
    "    print(f\" the multiplication {no1} and {no2} is {no1/no2}\")\n",
    "else:\n",
    "    print('provide sutibale operation')"
   ]
  },
  {
   "cell_type": "code",
   "execution_count": 7,
   "id": "3792c3fb",
   "metadata": {},
   "outputs": [
    {
     "name": "stdout",
     "output_type": "stream",
     "text": [
      "1\n",
      "5\n",
      "9\n"
     ]
    }
   ],
   "source": [
    "\n",
    "for i in range(1,10,):\n",
    "    print(i)"
   ]
  },
  {
   "cell_type": "code",
   "execution_count": null,
   "id": "88f83780",
   "metadata": {},
   "outputs": [
    {
     "name": "stdout",
     "output_type": "stream",
     "text": [
      "17\n"
     ]
    }
   ],
   "source": [
    "import random\n",
    "random_num=random.randint(1,50)\n",
    "print(random_num)\n",
    "chances=eval(input(\" mention number of chances left\"))\n",
    "for i in range(chances):\n",
    "    user_num=eval(input(\"enter number between 1 and 10:\"))\n",
    "    if user_num==random_num:\n",
    "        print(\"you won\")\n",
    "        break\n",
    "    else:\n",
    "        print(\"you lost\")\n",
    "        print(\"the number of chances left is:\",chances-1-i)"
   ]
  },
  {
   "cell_type": "code",
   "execution_count": null,
   "id": "6e260a48",
   "metadata": {},
   "outputs": [],
   "source": []
  },
  {
   "cell_type": "code",
   "execution_count": 169,
   "id": "2d579327",
   "metadata": {},
   "outputs": [
    {
     "name": "stdout",
     "output_type": "stream",
     "text": [
      "Santhanam  Jayendhran  jayendhran.ms@accenture.com accenture\n"
     ]
    }
   ],
   "source": [
    "s1='Santhanam, Jayendhran <jayendhran.ms@accenture.com>'\n",
    "i1=s1.find(',')\n",
    "name=s1[:i1]\n",
    "i2=s1.find('<')\n",
    "sec=s1[i1+1:i2]\n",
    "i3=s1.find('>')\n",
    "email=s1[i2+1:i3]\n",
    "i4=s1.find('@')\n",
    "cname=s1[i4+1:i5]\n",
    "i5=s1.find('.',s1.find('@'))\n",
    "\n",
    "\n",
    "\n",
    "\n",
    "print(name,sec,email,cname)\n"
   ]
  },
  {
   "cell_type": "code",
   "execution_count": 180,
   "id": "972010fe",
   "metadata": {},
   "outputs": [
    {
     "name": "stdout",
     "output_type": "stream",
     "text": [
      "Siva  sivakumar.naganathan@accenture.com accenture\n"
     ]
    }
   ],
   "source": [
    "s1='Siva,<sivakumar.naganathan@accenture.com>'\n",
    "i1=s1.find(',')\n",
    "name=s1[:i1]\n",
    "i2=s1.find('<')\n",
    "sec=s1[i1+1:i2]\n",
    "i3=s1.find('>')\n",
    "email=s1[i2+1:i3]\n",
    "i4=s1.find('@')\n",
    "cname=s1[i4+1:i5]\n",
    "i5=s1.find('.',s1.find('@'))\n",
    "\n",
    "\n",
    "print(name,sec,email,cname)\n"
   ]
  },
  {
   "cell_type": "code",
   "execution_count": null,
   "id": "fecde101",
   "metadata": {},
   "outputs": [],
   "source": []
  },
  {
   "cell_type": "code",
   "execution_count": null,
   "id": "1b0d2738",
   "metadata": {},
   "outputs": [],
   "source": []
  }
 ],
 "metadata": {
  "kernelspec": {
   "display_name": "Python 3 (ipykernel)",
   "language": "python",
   "name": "python3"
  },
  "language_info": {
   "codemirror_mode": {
    "name": "ipython",
    "version": 3
   },
   "file_extension": ".py",
   "mimetype": "text/x-python",
   "name": "python",
   "nbconvert_exporter": "python",
   "pygments_lexer": "ipython3",
   "version": "3.11.5"
  }
 },
 "nbformat": 4,
 "nbformat_minor": 5
}
